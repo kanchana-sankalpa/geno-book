{
 "cells": [
  {
   "cell_type": "markdown",
   "metadata": {},
   "source": [
    "# District Wise Infected Count\n",
    "\n",
    "Click the {fa}`rocket` --> {guilabel}`Live Code` button above on this page, and run the code below.\n",
    "In the frist attempt it might take some time to Binder to be \"ready\". If it's not repsonded click the button again."
   ]
  },
  {
   "cell_type": "code",
   "execution_count": 1,
   "metadata": {
    "interactive": true,
    "tags": [
     "thebe-init"
    ]
   },
   "outputs": [
    {
     "name": "stderr",
     "output_type": "stream",
     "text": [
      "WARNING: You are using pip version 21.2.3; however, version 21.3.1 is available.\n",
      "You should consider upgrading via the 'D:\\Github\\GenosTechBooks\\venv\\Scripts\\python.exe -m pip install --upgrade pip' command.\n"
     ]
    },
    {
     "name": "stdout",
     "output_type": "stream",
     "text": [
      "Requirement already satisfied: pandas in d:\\github\\genostechbooks\\venv\\lib\\site-packages (1.3.4)\n",
      "Requirement already satisfied: pytz>=2017.3 in d:\\github\\genostechbooks\\venv\\lib\\site-packages (from pandas) (2021.3)\n",
      "Requirement already satisfied: python-dateutil>=2.7.3 in d:\\github\\genostechbooks\\venv\\lib\\site-packages (from pandas) (2.8.2)\n",
      "Requirement already satisfied: numpy>=1.17.3 in d:\\github\\genostechbooks\\venv\\lib\\site-packages (from pandas) (1.21.3)\n",
      "Requirement already satisfied: six>=1.5 in d:\\github\\genostechbooks\\venv\\lib\\site-packages (from python-dateutil>=2.7.3->pandas) (1.16.0)\n"
     ]
    },
    {
     "name": "stderr",
     "output_type": "stream",
     "text": [
      "WARNING: You are using pip version 21.2.3; however, version 21.3.1 is available.\n",
      "You should consider upgrading via the 'D:\\Github\\GenosTechBooks\\venv\\Scripts\\python.exe -m pip install --upgrade pip' command.\n"
     ]
    },
    {
     "name": "stdout",
     "output_type": "stream",
     "text": [
      "Requirement already satisfied: matplotlib in d:\\github\\genostechbooks\\venv\\lib\\site-packages (3.4.3)\n",
      "Requirement already satisfied: python-dateutil>=2.7 in d:\\github\\genostechbooks\\venv\\lib\\site-packages (from matplotlib) (2.8.2)\n",
      "Requirement already satisfied: pillow>=6.2.0 in d:\\github\\genostechbooks\\venv\\lib\\site-packages (from matplotlib) (8.4.0)\n",
      "Requirement already satisfied: cycler>=0.10 in d:\\github\\genostechbooks\\venv\\lib\\site-packages (from matplotlib) (0.10.0)\n",
      "Requirement already satisfied: numpy>=1.16 in d:\\github\\genostechbooks\\venv\\lib\\site-packages (from matplotlib) (1.21.3)\n",
      "Requirement already satisfied: pyparsing>=2.2.1 in d:\\github\\genostechbooks\\venv\\lib\\site-packages (from matplotlib) (3.0.0)\n",
      "Requirement already satisfied: kiwisolver>=1.0.1 in d:\\github\\genostechbooks\\venv\\lib\\site-packages (from matplotlib) (1.3.2)\n",
      "Requirement already satisfied: six in d:\\github\\genostechbooks\\venv\\lib\\site-packages (from cycler>=0.10->matplotlib) (1.16.0)\n"
     ]
    },
    {
     "name": "stdout",
     "output_type": "stream",
     "text": [
      "Requirement already satisfied: seaborn in d:\\github\\genostechbooks\\venv\\lib\\site-packages (0.11.2)\n",
      "Requirement already satisfied: pandas>=0.23 in d:\\github\\genostechbooks\\venv\\lib\\site-packages (from seaborn) (1.3.4)\n",
      "Requirement already satisfied: matplotlib>=2.2 in d:\\github\\genostechbooks\\venv\\lib\\site-packages (from seaborn) (3.4.3)\n",
      "Requirement already satisfied: scipy>=1.0 in d:\\github\\genostechbooks\\venv\\lib\\site-packages (from seaborn) (1.7.1)\n",
      "Requirement already satisfied: numpy>=1.15 in d:\\github\\genostechbooks\\venv\\lib\\site-packages (from seaborn) (1.21.3)\n",
      "Requirement already satisfied: kiwisolver>=1.0.1 in d:\\github\\genostechbooks\\venv\\lib\\site-packages (from matplotlib>=2.2->seaborn) (1.3.2)\n",
      "Requirement already satisfied: pillow>=6.2.0 in d:\\github\\genostechbooks\\venv\\lib\\site-packages (from matplotlib>=2.2->seaborn) (8.4.0)\n",
      "Requirement already satisfied: pyparsing>=2.2.1 in d:\\github\\genostechbooks\\venv\\lib\\site-packages (from matplotlib>=2.2->seaborn) (3.0.0)\n",
      "Requirement already satisfied: python-dateutil>=2.7 in d:\\github\\genostechbooks\\venv\\lib\\site-packages (from matplotlib>=2.2->seaborn) (2.8.2)\n"
     ]
    },
    {
     "name": "stderr",
     "output_type": "stream",
     "text": [
      "WARNING: You are using pip version 21.2.3; however, version 21.3.1 is available.\n",
      "You should consider upgrading via the 'D:\\Github\\GenosTechBooks\\venv\\Scripts\\python.exe -m pip install --upgrade pip' command.\n"
     ]
    },
    {
     "name": "stdout",
     "output_type": "stream",
     "text": [
      "Requirement already satisfied: cycler>=0.10 in d:\\github\\genostechbooks\\venv\\lib\\site-packages (from matplotlib>=2.2->seaborn) (0.10.0)\n",
      "Requirement already satisfied: six in d:\\github\\genostechbooks\\venv\\lib\\site-packages (from cycler>=0.10->matplotlib>=2.2->seaborn) (1.16.0)\n",
      "Requirement already satisfied: pytz>=2017.3 in d:\\github\\genostechbooks\\venv\\lib\\site-packages (from pandas>=0.23->seaborn) (2021.3)\n"
     ]
    },
    {
     "name": "stdout",
     "output_type": "stream",
     "text": [
      "Requirement already satisfied: ipywidgets in d:\\github\\genostechbooks\\venv\\lib\\site-packages (7.6.5)\n",
      "Requirement already satisfied: ipykernel>=4.5.1 in d:\\github\\genostechbooks\\venv\\lib\\site-packages (from ipywidgets) (6.4.2)\n",
      "Requirement already satisfied: ipython>=4.0.0 in d:\\github\\genostechbooks\\venv\\lib\\site-packages (from ipywidgets) (7.28.0)\n",
      "Requirement already satisfied: traitlets>=4.3.1 in d:\\github\\genostechbooks\\venv\\lib\\site-packages (from ipywidgets) (5.1.0)\n",
      "Requirement already satisfied: widgetsnbextension~=3.5.0 in d:\\github\\genostechbooks\\venv\\lib\\site-packages (from ipywidgets) (3.5.1)\n",
      "Requirement already satisfied: ipython-genutils~=0.2.0 in d:\\github\\genostechbooks\\venv\\lib\\site-packages (from ipywidgets) (0.2.0)\n",
      "Requirement already satisfied: jupyterlab-widgets>=1.0.0 in d:\\github\\genostechbooks\\venv\\lib\\site-packages (from ipywidgets) (1.0.2)\n",
      "Requirement already satisfied: nbformat>=4.2.0 in d:\\github\\genostechbooks\\venv\\lib\\site-packages (from ipywidgets) (5.1.3)\n",
      "Requirement already satisfied: debugpy<2.0,>=1.0.0 in d:\\github\\genostechbooks\\venv\\lib\\site-packages (from ipykernel>=4.5.1->ipywidgets) (1.5.1)\n",
      "Requirement already satisfied: matplotlib-inline<0.2.0,>=0.1.0 in d:\\github\\genostechbooks\\venv\\lib\\site-packages (from ipykernel>=4.5.1->ipywidgets) (0.1.3)\n",
      "Requirement already satisfied: tornado<7.0,>=4.2 in d:\\github\\genostechbooks\\venv\\lib\\site-packages (from ipykernel>=4.5.1->ipywidgets) (6.1)\n",
      "Requirement already satisfied: jupyter-client<8.0 in d:\\github\\genostechbooks\\venv\\lib\\site-packages (from ipykernel>=4.5.1->ipywidgets) (6.1.12)\n",
      "Requirement already satisfied: setuptools>=18.5 in d:\\github\\genostechbooks\\venv\\lib\\site-packages (from ipython>=4.0.0->ipywidgets) (57.4.0)\n",
      "Requirement already satisfied: pickleshare in d:\\github\\genostechbooks\\venv\\lib\\site-packages (from ipython>=4.0.0->ipywidgets) (0.7.5)\n",
      "Requirement already satisfied: jedi>=0.16 in d:\\github\\genostechbooks\\venv\\lib\\site-packages (from ipython>=4.0.0->ipywidgets) (0.18.0)\n",
      "Requirement already satisfied: decorator in d:\\github\\genostechbooks\\venv\\lib\\site-packages (from ipython>=4.0.0->ipywidgets) (5.1.0)\n",
      "Requirement already satisfied: prompt-toolkit!=3.0.0,!=3.0.1,<3.1.0,>=2.0.0 in d:\\github\\genostechbooks\\venv\\lib\\site-packages (from ipython>=4.0.0->ipywidgets) (3.0.21)\n",
      "Requirement already satisfied: colorama in d:\\github\\genostechbooks\\venv\\lib\\site-packages (from ipython>=4.0.0->ipywidgets) (0.4.4)\n",
      "Requirement already satisfied: backcall in d:\\github\\genostechbooks\\venv\\lib\\site-packages (from ipython>=4.0.0->ipywidgets) (0.2.0)\n",
      "Requirement already satisfied: pygments in d:\\github\\genostechbooks\\venv\\lib\\site-packages (from ipython>=4.0.0->ipywidgets) (2.10.0)\n",
      "Requirement already satisfied: parso<0.9.0,>=0.8.0 in d:\\github\\genostechbooks\\venv\\lib\\site-packages (from jedi>=0.16->ipython>=4.0.0->ipywidgets) (0.8.2)\n",
      "Requirement already satisfied: pyzmq>=13 in d:\\github\\genostechbooks\\venv\\lib\\site-packages (from jupyter-client<8.0->ipykernel>=4.5.1->ipywidgets) (22.3.0)\n",
      "Requirement already satisfied: python-dateutil>=2.1 in d:\\github\\genostechbooks\\venv\\lib\\site-packages (from jupyter-client<8.0->ipykernel>=4.5.1->ipywidgets) (2.8.2)\n",
      "Requirement already satisfied: jupyter-core>=4.6.0 in d:\\github\\genostechbooks\\venv\\lib\\site-packages (from jupyter-client<8.0->ipykernel>=4.5.1->ipywidgets) (4.8.1)\n",
      "Requirement already satisfied: pywin32>=1.0 in d:\\github\\genostechbooks\\venv\\lib\\site-packages (from jupyter-core>=4.6.0->jupyter-client<8.0->ipykernel>=4.5.1->ipywidgets) (302)\n",
      "Requirement already satisfied: jsonschema!=2.5.0,>=2.4 in d:\\github\\genostechbooks\\venv\\lib\\site-packages (from nbformat>=4.2.0->ipywidgets) (3.2.0)\n",
      "Requirement already satisfied: six>=1.11.0 in d:\\github\\genostechbooks\\venv\\lib\\site-packages (from jsonschema!=2.5.0,>=2.4->nbformat>=4.2.0->ipywidgets) (1.16.0)\n",
      "Requirement already satisfied: pyrsistent>=0.14.0 in d:\\github\\genostechbooks\\venv\\lib\\site-packages (from jsonschema!=2.5.0,>=2.4->nbformat>=4.2.0->ipywidgets) (0.18.0)\n",
      "Requirement already satisfied: attrs>=17.4.0 in d:\\github\\genostechbooks\\venv\\lib\\site-packages (from jsonschema!=2.5.0,>=2.4->nbformat>=4.2.0->ipywidgets) (21.2.0)\n",
      "Requirement already satisfied: wcwidth in d:\\github\\genostechbooks\\venv\\lib\\site-packages (from prompt-toolkit!=3.0.0,!=3.0.1,<3.1.0,>=2.0.0->ipython>=4.0.0->ipywidgets) (0.2.5)\n",
      "Requirement already satisfied: notebook>=4.4.1 in d:\\github\\genostechbooks\\venv\\lib\\site-packages (from widgetsnbextension~=3.5.0->ipywidgets) (6.4.5)\n",
      "Requirement already satisfied: terminado>=0.8.3 in d:\\github\\genostechbooks\\venv\\lib\\site-packages (from notebook>=4.4.1->widgetsnbextension~=3.5.0->ipywidgets) (0.12.1)\n",
      "Requirement already satisfied: prometheus-client in d:\\github\\genostechbooks\\venv\\lib\\site-packages (from notebook>=4.4.1->widgetsnbextension~=3.5.0->ipywidgets) (0.11.0)\n",
      "Requirement already satisfied: argon2-cffi in d:\\github\\genostechbooks\\venv\\lib\\site-packages (from notebook>=4.4.1->widgetsnbextension~=3.5.0->ipywidgets) (21.1.0)\n",
      "Requirement already satisfied: nbconvert in d:\\github\\genostechbooks\\venv\\lib\\site-packages (from notebook>=4.4.1->widgetsnbextension~=3.5.0->ipywidgets) (6.2.0)\n",
      "Requirement already satisfied: Send2Trash>=1.5.0 in d:\\github\\genostechbooks\\venv\\lib\\site-packages (from notebook>=4.4.1->widgetsnbextension~=3.5.0->ipywidgets) (1.8.0)\n",
      "Requirement already satisfied: jinja2 in d:\\github\\genostechbooks\\venv\\lib\\site-packages (from notebook>=4.4.1->widgetsnbextension~=3.5.0->ipywidgets) (3.0.2)\n",
      "Requirement already satisfied: pywinpty>=1.1.0 in d:\\github\\genostechbooks\\venv\\lib\\site-packages (from terminado>=0.8.3->notebook>=4.4.1->widgetsnbextension~=3.5.0->ipywidgets) (1.1.4)\n",
      "Requirement already satisfied: cffi>=1.0.0 in d:\\github\\genostechbooks\\venv\\lib\\site-packages (from argon2-cffi->notebook>=4.4.1->widgetsnbextension~=3.5.0->ipywidgets) (1.15.0)\n",
      "Requirement already satisfied: pycparser in d:\\github\\genostechbooks\\venv\\lib\\site-packages (from cffi>=1.0.0->argon2-cffi->notebook>=4.4.1->widgetsnbextension~=3.5.0->ipywidgets) (2.20)\n",
      "Requirement already satisfied: MarkupSafe>=2.0 in d:\\github\\genostechbooks\\venv\\lib\\site-packages (from jinja2->notebook>=4.4.1->widgetsnbextension~=3.5.0->ipywidgets) (2.0.1)\n",
      "Requirement already satisfied: pandocfilters>=1.4.1 in d:\\github\\genostechbooks\\venv\\lib\\site-packages (from nbconvert->notebook>=4.4.1->widgetsnbextension~=3.5.0->ipywidgets) (1.5.0)\n",
      "Requirement already satisfied: nbclient<0.6.0,>=0.5.0 in d:\\github\\genostechbooks\\venv\\lib\\site-packages (from nbconvert->notebook>=4.4.1->widgetsnbextension~=3.5.0->ipywidgets) (0.5.4)\n",
      "Requirement already satisfied: entrypoints>=0.2.2 in d:\\github\\genostechbooks\\venv\\lib\\site-packages (from nbconvert->notebook>=4.4.1->widgetsnbextension~=3.5.0->ipywidgets) (0.3)\n",
      "Requirement already satisfied: testpath in d:\\github\\genostechbooks\\venv\\lib\\site-packages (from nbconvert->notebook>=4.4.1->widgetsnbextension~=3.5.0->ipywidgets) (0.5.0)\n",
      "Requirement already satisfied: jupyterlab-pygments in d:\\github\\genostechbooks\\venv\\lib\\site-packages (from nbconvert->notebook>=4.4.1->widgetsnbextension~=3.5.0->ipywidgets) (0.1.2)\n",
      "Requirement already satisfied: bleach in d:\\github\\genostechbooks\\venv\\lib\\site-packages (from nbconvert->notebook>=4.4.1->widgetsnbextension~=3.5.0->ipywidgets) (4.1.0)\n",
      "Requirement already satisfied: mistune<2,>=0.8.1 in d:\\github\\genostechbooks\\venv\\lib\\site-packages (from nbconvert->notebook>=4.4.1->widgetsnbextension~=3.5.0->ipywidgets) (0.8.4)\n",
      "Requirement already satisfied: defusedxml in d:\\github\\genostechbooks\\venv\\lib\\site-packages (from nbconvert->notebook>=4.4.1->widgetsnbextension~=3.5.0->ipywidgets) (0.7.1)\n",
      "Requirement already satisfied: nest-asyncio in d:\\github\\genostechbooks\\venv\\lib\\site-packages (from nbclient<0.6.0,>=0.5.0->nbconvert->notebook>=4.4.1->widgetsnbextension~=3.5.0->ipywidgets) (1.5.1)\n",
      "Requirement already satisfied: packaging in d:\\github\\genostechbooks\\venv\\lib\\site-packages (from bleach->nbconvert->notebook>=4.4.1->widgetsnbextension~=3.5.0->ipywidgets) (21.0)\n",
      "Requirement already satisfied: webencodings in d:\\github\\genostechbooks\\venv\\lib\\site-packages (from bleach->nbconvert->notebook>=4.4.1->widgetsnbextension~=3.5.0->ipywidgets) (0.5.1)\n",
      "Requirement already satisfied: pyparsing>=2.0.2 in d:\\github\\genostechbooks\\venv\\lib\\site-packages (from packaging->bleach->nbconvert->notebook>=4.4.1->widgetsnbextension~=3.5.0->ipywidgets) (3.0.0)\n"
     ]
    },
    {
     "name": "stderr",
     "output_type": "stream",
     "text": [
      "WARNING: You are using pip version 21.2.3; however, version 21.3.1 is available.\n",
      "You should consider upgrading via the 'D:\\Github\\GenosTechBooks\\venv\\Scripts\\python.exe -m pip install --upgrade pip' command.\n"
     ]
    }
   ],
   "source": [
    "!pip install pandas\n",
    "!pip install matplotlib\n",
    "!pip install seaborn\n",
    "!pip install ipywidgets"
   ]
  },
  {
   "cell_type": "code",
   "execution_count": 2,
   "metadata": {
    "interactive": true,
    "tags": [
     "thebe-init"
    ]
   },
   "outputs": [],
   "source": [
    "from __future__ import print_function\n",
    "from ipywidgets import interact, interactive, fixed, interact_manual\n",
    "import ipywidgets as widgets\n",
    "import requests  # Import the requests library\n",
    "import pandas as pd\n",
    "import matplotlib.pyplot as plt\n",
    "import matplotlib as mpl\n",
    "import seaborn as sns"
   ]
  },
  {
   "cell_type": "code",
   "execution_count": 3,
   "metadata": {
    "tags": [
     "thebe-init",
     "hide_input",
     "hide_output"
    ]
   },
   "outputs": [
    {
     "data": {
      "text/html": [
       "<style>.toggle-button { display :none !important; }</style>"
      ],
      "text/plain": [
       "<IPython.core.display.HTML object>"
      ]
     },
     "metadata": {},
     "output_type": "display_data"
    },
    {
     "data": {
      "text/html": [
       "<style>.toggle-button-hidden { display :none !important; }</style>"
      ],
      "text/plain": [
       "<IPython.core.display.HTML object>"
      ]
     },
     "metadata": {},
     "output_type": "display_data"
    },
    {
     "data": {
      "text/html": [
       "<style>.button.toggle-button  { display :none !important; }</style>"
      ],
      "text/plain": [
       "<IPython.core.display.HTML object>"
      ]
     },
     "metadata": {},
     "output_type": "display_data"
    },
    {
     "data": {
      "text/html": [
       "<style>.fas fa-download { display :none !important; }</style>"
      ],
      "text/plain": [
       "<IPython.core.display.HTML object>"
      ]
     },
     "metadata": {},
     "output_type": "display_data"
    },
    {
     "name": "stdout",
     "output_type": "stream",
     "text": [
      "Data Request returned 200 : 'OK'\n"
     ]
    }
   ],
   "source": [
    "from IPython.core.display import display, HTML\n",
    "display(HTML(\"<style>.toggle-button { display :none !important; }</style>\"))\n",
    "display(HTML(\"<style>.toggle-button-hidden { display :none !important; }</style>\"))\n",
    "display(HTML(\"<style>.button.toggle-button  { display :none !important; }</style>\"))\n",
    "display(HTML(\"<style>.fas fa-download { display :none !important; }</style>\"))\n",
    "\n",
    "\n",
    "# Query URL\n",
    "url = ('https://covid19-healthylk.herokuapp.com/api/districtstotal?startdate=2021-08-31&enddate=2021-09-31')\n",
    "#print(url)\n",
    "response = requests.get(url)  # Make a GET request to the URL\n",
    "# Print status code (and associated text)\n",
    "print(f\"Data Request returned {response.status_code} : '{response.reason}'\")\n",
    "# Print data returned (parsing as JSON)\n",
    "payload = response.json()  # Parse `response.text` into JSON\n"
   ]
  },
  {
   "cell_type": "code",
   "execution_count": 4,
   "metadata": {
    "interactive": true,
    "tags": [
     "thebe-init"
    ]
   },
   "outputs": [
    {
     "name": "stdout",
     "output_type": "stream",
     "text": [
      "Dataset feactched as selected dataframe\n"
     ]
    }
   ],
   "source": [
    "data=pd.json_normalize(payload['data'])\n",
    "selected=data[[\"datetext\", \"counttext\",\"location.formattedAddress\"]]\n",
    "print('Dataset feactched as selected dataframe')\n",
    "#print(selected)\n",
    "#list(selected.columns.values)"
   ]
  },
  {
   "cell_type": "code",
   "execution_count": 5,
   "metadata": {
    "tags": [
     "thebe-init"
    ]
   },
   "outputs": [
    {
     "name": "stdout",
     "output_type": "stream",
     "text": [
      "By defult Nuwara Eliya District selected\n",
      "For other district select it form the dropdown below >>>\n"
     ]
    },
    {
     "data": {
      "application/vnd.jupyter.widget-view+json": {
       "model_id": "79da8ea96a8a4517be80dc6d6dae294c",
       "version_major": 2,
       "version_minor": 0
      },
      "text/plain": [
       "HBox(children=(Dropdown(options=('Nuwara Eliya, Sri Lanka', 'Badulla, Sri Lanka', 'Kurunegala, Sri Lanka'), va…"
      ]
     },
     "metadata": {},
     "output_type": "display_data"
    },
    {
     "data": {
      "application/vnd.jupyter.widget-view+json": {
       "model_id": "a06922ba913448a983cff43a643d8110",
       "version_major": 2,
       "version_minor": 0
      },
      "text/plain": [
       "Output()"
      ]
     },
     "metadata": {},
     "output_type": "display_data"
    }
   ],
   "source": [
    "filtedVals= selected[selected['location.formattedAddress'].str.contains('Nuwara Eliya, Sri Lanka')]\n",
    "print('By defult Nuwara Eliya District selected')\n",
    "print('For other district select it form the dropdown below >>>')\n",
    "\n",
    "\n",
    "\n",
    "def f(x):\n",
    "    print(\"District changed to %s\" % x)\n",
    "    filtedVals=selected[selected['location.formattedAddress'].str.contains(x)]\n",
    "    print(filtedVals)\n",
    "    pivoted = pd.DataFrame(filtedVals.pivot_table(values='counttext', index='datetext', columns='location.formattedAddress', aggfunc='sum'))\n",
    "    return pivoted\n",
    "\n",
    "#interact(f, x=['Nuwara Eliya, Sri Lanka', 'Badulla, Sri Lanka', 'Kurunegala, Sri Lanka']);\n",
    "\n",
    "\n",
    "\n",
    "#def foo(param):\n",
    "    #display(param)\n",
    "    #return param\n",
    "    #return pd.DataFrame({'Z':[param,param], 'A': ['b', 'b']})\n",
    "\n",
    "params = widgets.Dropdown(options= ['Nuwara Eliya, Sri Lanka', 'Badulla, Sri Lanka', 'Kurunegala, Sri Lanka'])\n",
    "\n",
    "#bar = widgets.interactive_output(foo, {'param' : params})\n",
    "\n",
    "\n",
    "c = widgets.IntSlider()\n",
    "\n",
    "ui = widgets.HBox([params])\n",
    "def f2(params):\n",
    "    #print((params))\n",
    "    return params;\n",
    "\n",
    "out = widgets.interactive_output(f2, {'params': params})\n",
    "\n",
    "display(ui, out)\n",
    "\n",
    "\n",
    "#display(widgets.VBox([params, bar]))\n",
    "\n",
    "#display(ui, out)\n"
   ]
  },
  {
   "cell_type": "code",
   "execution_count": 6,
   "metadata": {
    "interactive": true,
    "tags": [
     "thebe-init"
    ]
   },
   "outputs": [
    {
     "name": "stdout",
     "output_type": "stream",
     "text": [
      "By defult Nuwara Eliya District selected\n",
      "For other district select it form the dropdown below >>>\n"
     ]
    },
    {
     "data": {
      "application/vnd.jupyter.widget-view+json": {
       "model_id": "023ca1c35ba343d7a757ad08d8b51868",
       "version_major": 2,
       "version_minor": 0
      },
      "text/plain": [
       "Dropdown(description='District:', options=('Nuwara Eliya, Sri Lanka', 'Badulla, Sri Lanka', 'Kurunegala, Sri L…"
      ]
     },
     "metadata": {},
     "output_type": "display_data"
    }
   ],
   "source": [
    "filtedVals= selected[selected['location.formattedAddress'].str.contains('Nuwara Eliya, Sri Lanka')]\n",
    "print('By defult Nuwara Eliya District selected')\n",
    "print('For other district select it form the dropdown below >>>')\n",
    "#print(filtedVals)\n",
    "w = widgets.Dropdown(\n",
    "    options=['Nuwara Eliya, Sri Lanka', 'Badulla, Sri Lanka', 'Kurunegala, Sri Lanka'],\n",
    "    value='Nuwara Eliya, Sri Lanka',\n",
    "    description='District:',\n",
    ")\n",
    "\n",
    "def on_change(change):\n",
    "    if change['type'] == 'change' and change['name'] == 'value':\n",
    "        print(\"District changed to %s\" % change['new'])\n",
    "        filtedVals=selected[selected['location.formattedAddress'].str.contains(change['new'])]\n",
    "        #print(filtedVals)\n",
    "        pivoted = pd.DataFrame(filtedVals.pivot_table(values='counttext', index='datetext', columns='location.formattedAddress', aggfunc='sum'))\n",
    "        #print(list(pivoted.columns.values))\n",
    "        #pivoted = pivoted.set_index('datetext')\n",
    "        #print(pivoted)\n",
    "        \n",
    "        # figure size globally set for matplotlib\n",
    "        mpl.rcParams['figure.figsize'] = (20, 20)\n",
    "        mpl.rcParams['axes.grid'] = False\n",
    "\n",
    "        ax = pivoted.plot()\n",
    "        #ax.set_color_palette(sns.color_palette(\"muted\"))\n",
    "        pivoted.plot(ax=ax)\n",
    "        plt.legend(loc='best',prop={'size': 9}) \n",
    "        plt.show() \n",
    "\n",
    "w.observe(on_change)\n",
    "\n",
    "display(w)"
   ]
  },
  {
   "cell_type": "code",
   "execution_count": 7,
   "metadata": {},
   "outputs": [
    {
     "data": {
      "application/vnd.jupyter.widget-view+json": {
       "model_id": "2e73d621fb9a4458a3184df6adc58fc7",
       "version_major": 2,
       "version_minor": 0
      },
      "text/plain": [
       "interactive(children=(Dropdown(description='m', index=1, options=(0, 1, 2, 3, 4), value=1), Output()), _dom_cl…"
      ]
     },
     "metadata": {},
     "output_type": "display_data"
    }
   ],
   "source": [
    "import numpy as np\n",
    "x = np.random.uniform(0, 5, size=100)\n",
    "ep = np.random.normal(size=100)\n",
    "\n",
    "y = 2*x + ep\n",
    "x_values = np.linspace(0, 5, 1000)\n",
    "\n",
    "def slope_viz(m=1):\n",
    "    plt.scatter(x, y)\n",
    "    plt.plot(x_values, m*x_values, lw=3, color='black')\n",
    "    \n",
    "    plt.ylim(-1.2, 12.2);\n",
    "\n",
    "widgets.interact(slope_viz, m=[0, 1, 2, 3, 4]);"
   ]
  },
  {
   "cell_type": "code",
   "execution_count": 103,
   "metadata": {},
   "outputs": [
    {
     "data": {
      "application/vnd.jupyter.widget-view+json": {
       "model_id": "4c6b342959dc470f8202dec21cff6708",
       "version_major": 2,
       "version_minor": 0
      },
      "text/plain": [
       "interactive(children=(Dropdown(description='x', options=('apples', 'oranges'), value='apples'), Output()), _do…"
      ]
     },
     "metadata": {},
     "output_type": "display_data"
    }
   ],
   "source": []
  }
 ],
 "metadata": {
  "celltoolbar": "Edit Metadata",
  "interpreter": {
   "hash": "3737066df5c064be03a6248772db1e76653979943fb860cf16d8d5c69b137dfa"
  },
  "kernelspec": {
   "display_name": "Python 3",
   "language": "python",
   "name": "python3"
  },
  "language_info": {
   "codemirror_mode": {
    "name": "ipython",
    "version": 3
   },
   "file_extension": ".py",
   "mimetype": "text/x-python",
   "name": "python",
   "nbconvert_exporter": "python",
   "pygments_lexer": "ipython3",
   "version": "3.9.7"
  },
  "widgets": {
   "application/vnd.jupyter.widget-state+json": {
    "state": {
     "023ca1c35ba343d7a757ad08d8b51868": {
      "model_module": "@jupyter-widgets/controls",
      "model_module_version": "1.5.0",
      "model_name": "DropdownModel",
      "state": {
       "_dom_classes": [],
       "_model_module": "@jupyter-widgets/controls",
       "_model_module_version": "1.5.0",
       "_model_name": "DropdownModel",
       "_options_labels": [
        "Nuwara Eliya, Sri Lanka",
        "Badulla, Sri Lanka",
        "Kurunegala, Sri Lanka"
       ],
       "_view_count": null,
       "_view_module": "@jupyter-widgets/controls",
       "_view_module_version": "1.5.0",
       "_view_name": "DropdownView",
       "description": "District:",
       "description_tooltip": null,
       "disabled": false,
       "index": 0,
       "layout": "IPY_MODEL_8aa79d9fae004961ba9a73a1772b6028",
       "style": "IPY_MODEL_0d4961e4b25d40848a203686263687b9"
      }
     },
     "0d4961e4b25d40848a203686263687b9": {
      "model_module": "@jupyter-widgets/controls",
      "model_module_version": "1.5.0",
      "model_name": "DescriptionStyleModel",
      "state": {
       "_model_module": "@jupyter-widgets/controls",
       "_model_module_version": "1.5.0",
       "_model_name": "DescriptionStyleModel",
       "_view_count": null,
       "_view_module": "@jupyter-widgets/base",
       "_view_module_version": "1.2.0",
       "_view_name": "StyleView",
       "description_width": ""
      }
     },
     "1d36a40c72c74e5d8eafc28133753279": {
      "model_module": "@jupyter-widgets/base",
      "model_module_version": "1.2.0",
      "model_name": "LayoutModel",
      "state": {
       "_model_module": "@jupyter-widgets/base",
       "_model_module_version": "1.2.0",
       "_model_name": "LayoutModel",
       "_view_count": null,
       "_view_module": "@jupyter-widgets/base",
       "_view_module_version": "1.2.0",
       "_view_name": "LayoutView",
       "align_content": null,
       "align_items": null,
       "align_self": null,
       "border": null,
       "bottom": null,
       "display": null,
       "flex": null,
       "flex_flow": null,
       "grid_area": null,
       "grid_auto_columns": null,
       "grid_auto_flow": null,
       "grid_auto_rows": null,
       "grid_column": null,
       "grid_gap": null,
       "grid_row": null,
       "grid_template_areas": null,
       "grid_template_columns": null,
       "grid_template_rows": null,
       "height": null,
       "justify_content": null,
       "justify_items": null,
       "left": null,
       "margin": null,
       "max_height": null,
       "max_width": null,
       "min_height": null,
       "min_width": null,
       "object_fit": null,
       "object_position": null,
       "order": null,
       "overflow": null,
       "overflow_x": null,
       "overflow_y": null,
       "padding": null,
       "right": null,
       "top": null,
       "visibility": null,
       "width": null
      }
     },
     "1ff538a0811f4515907cc29719dfe3a0": {
      "model_module": "@jupyter-widgets/base",
      "model_module_version": "1.2.0",
      "model_name": "LayoutModel",
      "state": {
       "_model_module": "@jupyter-widgets/base",
       "_model_module_version": "1.2.0",
       "_model_name": "LayoutModel",
       "_view_count": null,
       "_view_module": "@jupyter-widgets/base",
       "_view_module_version": "1.2.0",
       "_view_name": "LayoutView",
       "align_content": null,
       "align_items": null,
       "align_self": null,
       "border": null,
       "bottom": null,
       "display": null,
       "flex": null,
       "flex_flow": null,
       "grid_area": null,
       "grid_auto_columns": null,
       "grid_auto_flow": null,
       "grid_auto_rows": null,
       "grid_column": null,
       "grid_gap": null,
       "grid_row": null,
       "grid_template_areas": null,
       "grid_template_columns": null,
       "grid_template_rows": null,
       "height": null,
       "justify_content": null,
       "justify_items": null,
       "left": null,
       "margin": null,
       "max_height": null,
       "max_width": null,
       "min_height": null,
       "min_width": null,
       "object_fit": null,
       "object_position": null,
       "order": null,
       "overflow": null,
       "overflow_x": null,
       "overflow_y": null,
       "padding": null,
       "right": null,
       "top": null,
       "visibility": null,
       "width": null
      }
     },
     "2895cdbd2422419bb3c3f5a1dd790998": {
      "model_module": "@jupyter-widgets/base",
      "model_module_version": "1.2.0",
      "model_name": "LayoutModel",
      "state": {
       "_model_module": "@jupyter-widgets/base",
       "_model_module_version": "1.2.0",
       "_model_name": "LayoutModel",
       "_view_count": null,
       "_view_module": "@jupyter-widgets/base",
       "_view_module_version": "1.2.0",
       "_view_name": "LayoutView",
       "align_content": null,
       "align_items": null,
       "align_self": null,
       "border": null,
       "bottom": null,
       "display": null,
       "flex": null,
       "flex_flow": null,
       "grid_area": null,
       "grid_auto_columns": null,
       "grid_auto_flow": null,
       "grid_auto_rows": null,
       "grid_column": null,
       "grid_gap": null,
       "grid_row": null,
       "grid_template_areas": null,
       "grid_template_columns": null,
       "grid_template_rows": null,
       "height": null,
       "justify_content": null,
       "justify_items": null,
       "left": null,
       "margin": null,
       "max_height": null,
       "max_width": null,
       "min_height": null,
       "min_width": null,
       "object_fit": null,
       "object_position": null,
       "order": null,
       "overflow": null,
       "overflow_x": null,
       "overflow_y": null,
       "padding": null,
       "right": null,
       "top": null,
       "visibility": null,
       "width": null
      }
     },
     "2be845ba1e6d4cabab39931373865d79": {
      "model_module": "@jupyter-widgets/controls",
      "model_module_version": "1.5.0",
      "model_name": "IntSliderModel",
      "state": {
       "_dom_classes": [],
       "_model_module": "@jupyter-widgets/controls",
       "_model_module_version": "1.5.0",
       "_model_name": "IntSliderModel",
       "_view_count": null,
       "_view_module": "@jupyter-widgets/controls",
       "_view_module_version": "1.5.0",
       "_view_name": "IntSliderView",
       "continuous_update": true,
       "description": "",
       "description_tooltip": null,
       "disabled": false,
       "layout": "IPY_MODEL_c85b912bd61246e6960bfccbcc887555",
       "max": 100,
       "min": 0,
       "orientation": "horizontal",
       "readout": true,
       "readout_format": "d",
       "step": 1,
       "style": "IPY_MODEL_d134ee6d4f33447eb7d5f8e65f30686f",
       "value": 0
      }
     },
     "2e73d621fb9a4458a3184df6adc58fc7": {
      "model_module": "@jupyter-widgets/controls",
      "model_module_version": "1.5.0",
      "model_name": "VBoxModel",
      "state": {
       "_dom_classes": [
        "widget-interact"
       ],
       "_model_module": "@jupyter-widgets/controls",
       "_model_module_version": "1.5.0",
       "_model_name": "VBoxModel",
       "_view_count": null,
       "_view_module": "@jupyter-widgets/controls",
       "_view_module_version": "1.5.0",
       "_view_name": "VBoxView",
       "box_style": "",
       "children": [
        "IPY_MODEL_cbedb26d89844b04b9d66561a515b9d3",
        "IPY_MODEL_51f202d805d2493cbca87de6763364a7"
       ],
       "layout": "IPY_MODEL_7a78ad63e82c4edba169e753ef3d1f20"
      }
     },
     "51f202d805d2493cbca87de6763364a7": {
      "model_module": "@jupyter-widgets/output",
      "model_module_version": "1.0.0",
      "model_name": "OutputModel",
      "state": {
       "_dom_classes": [],
       "_model_module": "@jupyter-widgets/output",
       "_model_module_version": "1.0.0",
       "_model_name": "OutputModel",
       "_view_count": null,
       "_view_module": "@jupyter-widgets/output",
       "_view_module_version": "1.0.0",
       "_view_name": "OutputView",
       "layout": "IPY_MODEL_1d36a40c72c74e5d8eafc28133753279",
       "msg_id": "",
       "outputs": [
        {
         "data": {
          "image/png": "iVBORw0KGgoAAAANSUhEUgAAAXAAAAD5CAYAAAA+0W6bAAAAOXRFWHRTb2Z0d2FyZQBNYXRwbG90bGliIHZlcnNpb24zLjQuMywgaHR0cHM6Ly9tYXRwbG90bGliLm9yZy/MnkTPAAAACXBIWXMAAAsTAAALEwEAmpwYAAAhdUlEQVR4nO3de3BU150n8O8PISxhG4SN7GCBeMXBE5uAQJtxLOwMktp4HHtM2TuTpOKpPJxiq3ZnNnFmnCW7rnGmNlsmxe7spHandpdKvDupUIkzxqPxTjIhLZ6JFxDCwsPb6yQ81Lzk9QgQCCPBb//oB92tvt237z332d9PlSvQunSfxvGvT3/P75wrqgoiIoqeSUEPgIiInGEBJyKKKBZwIqKIYgEnIoooFnAioohiASciiqjJlS4QkVcAPAHgvKo+kHlsPYAnAVwD8CsAX1TV4UrPNXPmTJ03b56b8RIR1Zx9+/a9p6rNxY9LpT5wEXkEwAiA7+cV8EcBbFXVcRH5NgCo6r+pNIj29nbt7+93Mn4iopolIvtUtb348YoRiqruBPB+0WM/V9XxzG93A5htZJRERGSbiQz8SwD+wcDzEBFRFVwVcBH5dwDGAWwsc80aEekXkf6hoSE3L0dERHkcF3AR+QLSi5uf0zJBuqpuUNV2VW1vbp6QwRMRkUMVu1BKEZHHAHwdwCdV9YrZIRERkR0VZ+Ai8kMAuwAsEpFBEXkOwH8FcDuApIjsF5H/7vE4iYioSMUZuKp+tsTD3/NgLEREVAXuxCQiiigWcCKiiGIBJyKKKBZwIqKIYgEnIoooFnAioohiASciiigWcCKiiGIBJyKKKBZwIqKIYgEnIoooFnAioohydJwsERFZ6xlIYf3mYzg9PIp7mhrxwqpFWN3WYvx1WMCJiAzqGUjhG68fwOjYdQBAangU33j9AAAYL+KMUIiIDFq/+ViueGeNjl3H+s3HjL8WCzgRkUGnh0eretwNFnAiIoPuaWqs6nE3WMCJiAx6YdUiNNbXFTzWWF+HF1YtMv5aXMQkIjIou1DJLhQiohCq1Ca4uq3Fk4JdjAWciKgKfrYJVsIMnIioCn62CVbCAk5EVAU/2wQrYQEnIqqCn22ClVQs4CLyioicF5GDeY/dISJJEfm/mf+d4e0wiYjCwc82wUrszMD/F4DHih5bC2CLqt4LYEvm90REsbe6rQXPLG9BnQgAoE4Ezyz3p+ukWMUCrqo7Abxf9PBTAP468+u/BrDa7LCIiMKpZyCFTftSuK4KALiuik37UugZSPk+FqcZ+N2qeibz67MA7ra6UETWiEi/iPQPDQ05fDkionCIVReKqioALfPzDararqrtzc3Nbl+OiChQYepCcbqR55yIzFLVMyIyC8B5k4MiIjLBixsr3NPUiFSJYh3KLhQLbwD4fObXnwfwd2aGQ0RkRnbHZGp4FIqbOybdZtVh6kKpOAMXkR8C+B0AM0VkEMBLANYB+LGIPAfgBIA/8HKQRFQbTM6Yy2XVbmbhfh5WVUnFAq6qn7X4UZfhsRBRDSt1xsjzr+5H/4n38a3Vi6t+Pi+zar8Oq6qEOzGJKBRKzZgVwMbdJx3FHlaZtALoWLc1kLY/01jAiSgUrGbGCjhq0SuVVWeZysODxuNkicg1E9m1VXcH4Cz2yM+qSz2vmzzci+4WJzgDJyJXTHV7vLBqEcTiZ05b9Fa3teDNtZ2Wz+vkg8Gr7hYnWMCJCD0DKXSs24r5a39SdT5samfi6rYWfO7B1gnF1kSLnskTBGO1E5OIos3tjNJUt0fPQArbjg5BgdxBUS1NjXj56cWu4wmTvdth2onJAk5U49zOKE3MbvM/RID0AVGC9IfJ+s3HXMcTq9ta8PLTi9HS1AiBuw+GMJ0HzkVMohrndkb5wqpFBf3bQPWzW6sWQsDcPSdN9W6beL+msIAT1Ti3Z3uY2JlY6cPCxA5KK9V2lERqJyYRxZuJGaWb2W3PQAqTRHLna1vxImN2eod57sQkolAwmQ9XK1tAKxVvwJuMOUwdJU5wBk5Egc0oSxXQUqr9RmA3FnGT/4dhMw8LOBEFplyhbGqsx4XRsaqLYzWxiNP832n0YhojFCIKTLlCeestk/GbdZ/Cm2s7qyqK1cQiTvvDwxK9sIATUWDKFUqni5bVxCJO8/+wbOZhhEJEgVnd1oI//9+H8E9Xxib8zOmiZbWxiJP8Pyy3VeMMnKiGuDnzxCsvPXm/0VuU+XHLs7DcVo0zcKIaEZaFt2KmN8b4sdEmLJt5RG30X5rS3t6u/f39vr0eEd3UsW5rya/9LU2NeHNtp6PnDEMrXZjHY4qI7FPV9uLHOQMnqhGmF97CNqN/secANu4+afwMlTBjBk5UI0yfoheWVjog/WGSX7yDHo9fWMCJaoTphbewtNIB6Q8TqzA4iPH4hQWcqEaYPvMkTOdilyvSQYzHL64ycBF5HsCXkT669wCAL6rqVRMDIyLzTJ55EqZzsa36sgXlNwtFneMZuIi0APjXANpV9QEAdQA+Y2pgROQdE/3gQZ5iWKxUPCQAPvdga2wXMAH3XSiTATSKyBiAqQBOux8SEXnJZPeIn6cYlmsRDEtftt8cF3BVTYnIfwRwEsAogJ+r6s+NjYyIPFGueySsBc/Oh44XHyZh7yt3XMBFZAaApwDMBzAM4G9E5FlV/UHRdWsArAGA1tZW5yMlIiPC1D1ipbhwXv5g3PcPnbD1uZfipgulG8BvVHVIVccAvA7goeKLVHWDqrarantzc7OLlyMiE8LUPVJK/h3qFenCOTw68bArwNsPnTD1uVtxU8BPAnhQRKaKiADoAnDEzLCIyCthOYjJit279ADefuhE4ZuK4wKuqnsAvAbgLaRbCCcB2GBoXETkkTB1j5Rit0DW14mnHzph/6YCuOxCUdWXALxkaCxE5JOw3FW9FKue7gk8PocvTH3uVrgTk4hCxaqnu9jYDfU0jw77NxWApxESRULY29lMu2XypNzMd8bU+pJ37AG8z6PD/E0FYAEnCr0otLOZUvxeAeDq2A00NdaX7EQJUx4dBEYoRCEXhXY2U6zeqwhC3TkTFBZwopCLQjubKVbvafjKWOjz6CAwQiEKubDcAd2PHL7cew17Hh0EzsCJQi4MG29K7Y78xusHjN/VPgzvNUo4AycKuTCctOfFAVjlZvS11HHjBgs4UQQEHR/4fUNkFmx7GKEQUUVxviFylLGAE1FFcb4hcpSxgBNRRfnbygGgTiQ3Y3aykBmFg6KigAWcKCJM3MfSjdVtLbmZ+HVNnyTltBuF3SZmsIATRYBfbXyVmMquo3BQVBSwC4UoAry8j2U1G3RMZtfsNnGPM3CiCPBq0a/amT2z63BhASeKAK8KZ7WRCLPrcGEBp9AIepEuzLwqnNXO7JldhwszcAqFWjrz2gmvtpg7OSiL2XV4sIBTKHi5SBcU06f3eVE4o3DfR7LGAk6hEKWdeeUKc/ZnqeFRCG7edzes3yh4eFS0sYBTKITlzOtKykU9AAp+VnzT9LB+o2AkEl1cxKRQiEp3Q7mop9TPioXxGwVFF2fgFApR+SrvNupx8o2i1u5IT/a5KuAi0gTguwAeQPob45dUdZeBcVENisJX+UpRT6mfZTn5RsHuHCrHbYTyHQA/U9X7ACwBcMT9kIjCq1zU88KqRaifJCX/nNN+aZ6bTeU4noGLyHQAjwD4AgCo6jUA18wMiyicykU9PQMpoKh+19cJ1v/zJY5ny1HqziH/uYlQ5gMYAvA/RWQJgH0AvqKql/MvEpE1ANYAQGtrq4uXIwoHq6hn/eZjGLte2Hsydl1ddZ5EpTuHguEmQpkMYBmA/6aqbQAuA1hbfJGqblDVdlVtb25udvFyROHmxWw5Kt05FAw3BXwQwKCq7sn8/jWkCzpRTfLiwCmePULlOI5QVPWsiJwSkUWqegxAF4DD5oZGFC1ebUuPQncOBcNtH/gfA9goIlMA/BrAF90PiSiaotLLTvHhqoCr6n4A7WaGQhR9nC2Tn7iVnogooriVnmKp0vZzbk+nOGABp9iptP2c29MpLhihUOxU2n7O7ekUFyzgFDuVNtRwezrFBSMUip1K28+5Pb16XDMIJ87AKXYqbT/n9vTqZNcMUsOjUNxcM+gZSAU9tJrHAk6xU2n7ObenV4drBuHFCIViqdKGGjsbbhgbpHHNwJ1z585hy5YtuHLlCr785S8bfW4WcPJcFAshWw1vmt5Yj+HRsQmPc82gtMuXL2Pnzp3o7e1FMpnEgQPp/9/MmjULzz33HERK3/TDCRZw8lRUC2G52CDbSx61DyUnegZSuHxtfMLj9ZOEawYZ4+Pj6O/vzxXsXbt2YWxs4gfemTNncOTIEXz0ox819tos4OSpSoUwrMrFBlH9UHKi1E0qAOC2hsmxe692qSreeeedXMHetm0bLl68aHl9fX09PvGJT6C7uxvTp083OhYWcPJUVPPTcq2GUf1QcsLq39PwlYkzzDjL5tjJZBK9vb0YHBwse/3ixYvR3d2NRCKBhx9+GLfddpsn42IBJ09Ftee63Nnez7+6v+SfCfuHkhNR/ffn1sjICH7xi1/kCnY2x7Yye/bsXMHu7OzEhz70IV/GyQJOnjJ5kwOvcudyz1vq8fWbj9kualHPyr26SUXYjI+PY+/evejt7UVvb69ljp01bdo0rFy5EolEAt3d3fjIRz5idHHSLhZw8pSpmxx4lTu/2HMAG3efRDblTQ2P4vlX96P/xPv41urSveF2i1ocsvK43qRCVXHs2LFcwbaTYz/00EPo7u5Gd3c32tvbMXly8OVTVCcuUHilvb1d+/v7fXs9io+OdVtLznpbMgXFSYHpGUjh+Vf3o9R/AQLgP396qeXz2JlZlxvzm2s7K46PzDp79iy2bNmSK9p2cuzsDNvLHNsOEdmnqhNunhP8RwiFVpi+/lvly9lZrZNZ7vrNx0oWbwDQzM+tnsPORqCoLuDGxcjISK4f226OnS3YfubYbrCAU0lh+/pvtZhWJ+K4I6RSIS33czsfbrW6ABgUJzl2Z2dnLhYJKsd2gwWcSgpbq5xV7lw8xiw7s1yrApv/81LsfriVGrNkru9YtzUWWXKQ4pJjuxHt0ZNngv76X2qG+/LTiyc8Vk1HSLFSBTarXKeF3Q+3/AXA1PAoBChYLI3agmYYZHPsbHtfKlX+RMSPfexjuYL9yCOP4NZbb/VppP5gAaeSvPr6byd6sJrhvvz04pKLf07b3IoLbJ0IrqvmFkatCms1H27ZrLzUgmZcN/+YlJ9jJ5NJHDx4sOz1+Tl2V1cX7r77bp9GGgwWcCrJi/5fu9FDNfFNuTY3Ox8WdhYjizn5cAv6G01UZHPs7Ax7165dGB+feBZL1vTp07Fy5crcJpp77703cjm2G64LuIjUAegHkFLVJ9wPicLAqjAC6fY4J50pdgtztcWuVBH2chHWyYcbFzRLy+bY2YK9fft2Wzl2dpa9fPnyyOfYbph4518BcATANAPPRSFSXBjdFkW7hdlEsfNyEdbJ5pZa2dFox9mzZ3MLj3Zz7Px+7Ljl2G64KuAiMhvApwD8BwBfMzIiCi23RdFuYTZR7LyOLKqNXuK6o9GOkZER7NixI1ewK+XYc+bMKThXJO45thtuZ+B/CeDrAG63ukBE1gBYAwCtra0uX46C5LYo2i3MJopdGCMLJ3l7FI2Pj6Ovr6+gH7tSjp3fj11rObYbjgu4iDwB4Lyq7hOR37G6TlU3ANgApLfSO329OAnTDsdquC2K1RRmt8WOkYV/VBVHjx4t6Me+dOmS5fX19fXo6OjIFexaz7HdcPO31gHg90TkcQANAKaJyA9U9VkzQ4umSsU5bDscq2GiKPo1C63lyMIPZ86cKThXpFKOvWTJklzBZo5tjpHDrDIz8D+t1IUS98OsioszkC5w+Xc8j/oBR1H99kDuXLp0qaAf+9ChQ2WvnzNnTsG5Isyx3eFhVj6ws8gX9X7gWslxa93Y2FjuXJFkMondu3czxw4hIwVcVbcD2G7iuaLMTnEO4+IaUX6OnUwmsX37dubYEcC/cYPsFGcurlFYZHPs7Caa06dPl72eOXb4sIAbZKc4m1xcC3seHfbx1Zpsjp0t2HZz7Gw/9l133eXTSMkuFnCD7BZnEzmy224Wr4trlLtt4iKbY2cLdjU5diKRwIc//GHm2CHHW6rZEMaZpJtuFjvdMkGOj5zJ5tj554qUy7GnTJlScK7IsmXLmGOHFLtQHArrTNJNN4sfN2uIerdNVJw+fbqgH9tOjp0t2CtWrGCOHXEs4BWE7c40WW66Wfworuy28calS5cKzhWplGO3trYW9GMzx44XFvAKwjqTdNLNko2CrEIzk8WV3TZmjI2NFZwrUinHbmpqKujHZo4dbyzgFYR1JlltN0up3Duf6eLKrezOqCqOHDmSK9h2cuzifuy6ujofR0xB4iJmBX4s+PnBalERQMVbiJG3qs2xly5dmivYzLFrAxcxHYrDTLJnIGVZvAVgV4jP8nPsZDKJw4cPl70+P8fu6upCc3OzTyOlsGMBtyHK539kv0FYCToKqgX5OXYymcSePXts59iJRAILFy5kjk0lsYDHUH7f+qTMndZL4aKiN/Jz7Oy5IiMjI5bX5+fYiUQCy5YtY45NtrCA+8iPDUHFmb1V8QYQuRw/zLI5dnYTzZkzZ8pen82xE4kEVqxYgalTp/o0UooTFnCPFBfrlfc1Y9O+lOcbgkr1rZfS0tTI4u3CpUuXsH379tzCo90cO3uuCHNsMoEF3AOldm9u3H1yQv+1FxuC7PSnMzqp3tjYGPbs2ZMr2HZy7K6urly3CHNs8gILuE3VxB+lZsFWQYbpDUFWfet1IrihGskumiCoKg4fPlzQj20nx84/V4Q5NnmNBdyGas9DqaYom+4CsdoByby7slQqVdCPbSfHzj9XhDk2+Y0F3IZqz0OxmgUX8yLKiEPfupfyv0nd1XAD3U3/DyO/GbCVY8+dO7fgXBHm2BS0mivgTjpBqj0PpdQsuBSvZsVR7lv30mt9x/Enf/UaLvzqLVw9/jaOnz6KPr1hef2MGTMKzhVhjk1hU1MF3OnRsNWeh5I/Cy63fZ1F1lv5OXYymcQ/JLfixjXrb0ZTpkzBihUrcgWbOTaFXU0VcKdHwzo5WS87C7Y6S2Xlfc3oWLeVMYcLpb5N/bO7UFWOPeXuhWiYuwR/8+//BXNsipyaKuBOj4Z1kyuX+rN+9YTHWfaD8fLIJVw9dQAHju/Hp//Tflx771TZP1c37S40zluKhnlL0TB3CeqmTkdLUyMefZTnwVD01FQBd3M0rJtcufjPdqzbGsqbRERBth/7j1/agKFj/fjg9DHAZo6t9yzGd/ou4ur4zevZE09R5riAi8gcAN8HcDfSbc4bVPU7pgbmhSBvMpD/dd+vnvA4yObY2S3qO3bsKNuPjbrJ6PzkI7lt6m1tbQU59qw54bu/KZFTbmbg4wD+RFXfEpHbAewTkaSqlu/FClBQLXaVbqaQxZMB01KpVC7D7u3txdmzZ8ten82xG+a1Yf79y7Dlzx63vJYdOhQnjgu4qp4BcCbz60sicgRAC4DQFnAgmP+A7ZxPUu03AT8OxvLLxYsXC84VOXLkSNnr582bh3vbHsIhmYtJLQ+gbup0AOm/w7VPLvZjyEShYCQDF5F5ANoA7DHxfHFTLhoRoOoC7LQdMizGxsawe/fugnNFrl+3/oCbMWNGwbkiCxYsgIjE6kOMyAnXBVxEbgOwCcBXVfViiZ+vAbAGSJ/IVousFk9bmhod3Q3HaTtkUFQVhw4dyhXsSjn2LbfcUtCPXZxjZzEOoVrnqoCLSD3SxXujqr5e6hpV3QBgA5C+J6ab13MrqBmb6cVTp+2QTjn5e6smxxYRtLW15Qp2R0cH+7GJbHDThSIAvgfgiKr+hbkhmdczkMI33ziE4dGx3GN+xg6mF0/dtENWy25c4yTHzj9XZObMmcbHThR3bmbgHQD+EMABEdmfeezfqupPXY/KoHIdIH7GDm6/7ufPgqc31qO+TjB2/eYXGq/aIa3imm//5CDuHPm14xx74cKFxsdKVGvcdKH8Euk1uFCr1AEShd7r4g+h4dEx1E8SzJhaj+ErY57GQdm/H1XF2HsncPX427h6fAAnTx3EI2NXLf+c3RybiJyL/U7MSse6RqH3utSH0NgNxdQpkzHwZ4969rqDg4OY/KudOHO4D1dPvI3rl//J8tr8HDuRSKCjowONjeH/uyWKstgX8LoY3JXdr0XLCxcuYMeOHbldj0ePHi17PXNsomDFvoDH4a7sXi1aXrt2DXv27MkV7L6+vrI59qSG2zHjw234g6cex59+6fexYMECV69PRO7EvoC3lOnBDrp4W7XnVbqjPeDs24Oq4uDBgwX92JcvX7a8PptjZ2fZS5cuZY5NFCKxL+BBHGBlp2/aqj2v/8T7E46a3bQvhWeWt2Db0aGq2xAHBwcL+rHPnTtneW02x84WbObYROEW+wLu9wFWL/YcwMbdJ3MnDlr1TVu15/1wz6kJsc/o2HVsOzpka9fmhQsXCvqxK+XY8+fPzxXslStXMscmipDYF3DAvy3XPQOpguKdVarf3GoB0iqzt7r+2rVrBeeKVMqx77jjjgnnihBRNMWmgIfhYKNvvnHI9lnfVguTVl0z2QVLJzn2ww8/nCvYzLGJ4iMWBTwMp/P1DKQKtuoXK+4Yscrmn1neMmHBcvLo+1je+B6effYVWzn2smXLCs4VYY5NFE+xKOCmT+dzMptfv/mY5c8EmLBoWi6b/607JuNb330NqUN9GD/1NkaHTuG/lHntBQsW5Ap2Z2cn7rzzTrtvlYgiLBYF3ORGF6ez+XKv9bkHW0v+2Ww2n8ux//Z/4Nv/Mom+vj7cuGF9n0fm2EQExKSAm9zo4nQ2bzWGGVPr8a3VhXeJyc+xk8kkduzYgStXrlg+d36OnUgksHTpUkyaNKnKd0ZEcROLAm6y19vpbN5qDC89eT8A4NSpU9iyZQuSySS2bNliO8dOJBJ46KGHmGMT0QSxKOAme73LzebLZePFY7ir4To6p51F7/f+Hmt7e3HsmHVGDtzMsROJBFauXMkcm4gqikUBB8z1elvNpFfe11w2G7927RpmXHwXnZe3oXdHuh+7z0aOnUgk0NXVZSTHDkMrJRH5JzYF3BSr2XxxNq6quJB6F8+/+HfYoCds59j554qYzLHD0EpJRP5iAS+h1Gz++Vf3Y/ziEK4e34/RE/tx9fjbuHFlGABwvMRziAiWL1+e6xTxOseO2o2Oicg9FvAyhoeHc+eKnPvxGxgdOlX2+oULF+YKtt85tt83Oiai4LGA5/nggw9y54okk0ns3bu3bD92XeM0PLjik/j87z+J7u5uzJ8/38fRFvLzRsdEFA41XcBVFQcOHCg4V6Rcjj3lllvQOOcBTJq9GHMe+G289IVP4enlc3wcsbUgjs0lomBFsoC76bY4depUwfnY58+ft7y2OMfu6OhAQ0ODqbdhlN/H5hJR8CJXwKvttsjm2Nnbhr3zzjtlnz8/x+7s7MQdd9xh/k14xK9jc4koHCJXwCt1W2Rz7GzBrpRj33nnnQXnigSZYxMRVSP0BTwbl6SGR0uela16A2NDJ3CkbwC/u2M9du7cWTbHbmhoKDhXZMmSJTxXhIgiyVUBF5HHAHwHQB2A76rqOiOjyiiOS7LFe/zi+XQ/9vG3cfXEzX7sn5UeI5YvX465ix/E0bp5uDR9AS7PnI6PJBahjXEDEUWY4wIuInUA/gpAAsAggL0i8oaqHjY1uGxccuPqCK6e/MdMwd6P8fdTZf/cwoULC+7zuPPEaO6DQMBdikQUD25m4B8H8K6q/hoARORHAJ4CYKyAnx4exYX/8yqGf7kRUOsc+/amGXh81aPo7u5GV1fXhBx7/Yat3KVIRLHjpoC3AMjfmjgI4LeLLxKRNQDWAEBra2tVL3BPUyNGZsyaULxl8hTcMvt+NM5bihfXfBpf/XSibI7NXYpEFEeeL2Kq6gYAGwCgvb3d6p6/Jb2wahFeOH8e78kkTPnQQjTMXYqGeUvR0PJbkMlTAACbTtTjaxUWIblLkYjiyE0BTwHI34Y4O/OYMel442G8PK0H566WLtKlZtHFG31W3tc84UbB3KVIRFHnpn9uL4B7RWS+iEwB8BkAb5gZ1k2r21qw55tPosVitlw8i852rqSGR6FIL1hu2pfCM8tb0NLUCAHQ0tSIl59ezPybiCLN8QxcVcdF5I8AbEa6jfAVVT1kbGRFyt1ooWPd1txs+/IH4yUXLLcdHcKbazu9Gh4Rke9cZeCq+lMAPzU0lrJKnfVRHI2UyrmzuGBJRHET+p2Y+YrP+uhYN7E90AoXLIkobiK9h9zurJoLlkQUR5Eu4Faz6hlT67lgSUSxF6kIpZjVwuZLT97Pgk1EsRfpAs6bGBBRLYt0AQd4EwMiql2RzsCJiGpZ5GfgJrm51yYRkd9YwDOqvdcmEVHQGKFklLvXJhFRGLGAZ/DMcCKKGhbwDKtNQdyCT0RhxQKe8cKqRWisryt4jFvwiSjMuIiZwU1BRBQ1olrVXc7cvZjIEIATDv/4TADvGRxOFPA91wa+59rg5j3PVdXm4gd9LeBuiEi/qrYHPQ4/8T3XBr7n2uDFe2YGTkQUUSzgREQRFaUCviHoAQSA77k28D3XBuPvOTIZOBERFYrSDJyIiPJEooCLyGMickxE3hWRtUGPx2si8oqInBeRg0GPxQ8iMkdEtonIYRE5JCJfCXpMXhORBhHpE5G3M+/5z4Mek19EpE5EBkTk74Meix9E5LiIHBCR/SLSb/S5wx6hiEgdgHcAJAAMAtgL4LOqejjQgXlIRB4BMALg+6r6QNDj8ZqIzAIwS1XfEpHbAewDsDrm/44FwK2qOiIi9QB+CeArqro74KF5TkS+BqAdwDRVfSLo8XhNRI4DaFdV433vUZiBfxzAu6r6a1W9BuBHAJ4KeEyeUtWdAN4Pehx+UdUzqvpW5teXABwBEOstsJo2kvltfeafcM+mDBCR2QA+BeC7QY8lDqJQwFsAnMr7/SBi/h93LROReQDaAOwJeCiey0QJ+wGcB5BU1di/ZwB/CeDrAG4EPA4/KYCfi8g+EVlj8omjUMCpRojIbQA2Afiqql4MejxeU9XrqroUwGwAHxeRWMdlIvIEgPOqui/osfhshaouA/C7AP5VJiI1IgoFPAVgTt7vZ2ceoxjJ5MCbAGxU1deDHo+fVHUYwDYAjwU8FK91APi9TCb8IwCdIvKDYIfkPVVNZf73PIC/RToWNiIKBXwvgHtFZL6ITAHwGQBvBDwmMiizoPc9AEdU9S+CHo8fRKRZRJoyv25EepH+aKCD8piqfkNVZ6vqPKT/O96qqs8GPCxPicitmYV5iMitAB4FYKy7LPQFXFXHAfwRgM1IL279WFUPBTsqb4nIDwHsArBIRAZF5Lmgx+SxDgB/iPSMbH/mn8eDHpTHZgHYJiL/iPQkJamqNdFWV2PuBvBLEXkbQB+An6jqz0w9eejbCImIqLTQz8CJiKg0FnAioohiASciiigWcCKiiGIBJyKKKBZwIqKIYgEnIoooFnAiooj6/6/g9mb+F9jHAAAAAElFTkSuQmCC\n",
          "text/plain": "<Figure size 432x288 with 1 Axes>"
         },
         "metadata": {
          "needs_background": "light"
         },
         "output_type": "display_data"
        }
       ]
      }
     },
     "76319595f1684cc8a6e9d8f8b8daf803": {
      "model_module": "@jupyter-widgets/base",
      "model_module_version": "1.2.0",
      "model_name": "LayoutModel",
      "state": {
       "_model_module": "@jupyter-widgets/base",
       "_model_module_version": "1.2.0",
       "_model_name": "LayoutModel",
       "_view_count": null,
       "_view_module": "@jupyter-widgets/base",
       "_view_module_version": "1.2.0",
       "_view_name": "LayoutView",
       "align_content": null,
       "align_items": null,
       "align_self": null,
       "border": null,
       "bottom": null,
       "display": null,
       "flex": null,
       "flex_flow": null,
       "grid_area": null,
       "grid_auto_columns": null,
       "grid_auto_flow": null,
       "grid_auto_rows": null,
       "grid_column": null,
       "grid_gap": null,
       "grid_row": null,
       "grid_template_areas": null,
       "grid_template_columns": null,
       "grid_template_rows": null,
       "height": null,
       "justify_content": null,
       "justify_items": null,
       "left": null,
       "margin": null,
       "max_height": null,
       "max_width": null,
       "min_height": null,
       "min_width": null,
       "object_fit": null,
       "object_position": null,
       "order": null,
       "overflow": null,
       "overflow_x": null,
       "overflow_y": null,
       "padding": null,
       "right": null,
       "top": null,
       "visibility": null,
       "width": null
      }
     },
     "79da8ea96a8a4517be80dc6d6dae294c": {
      "model_module": "@jupyter-widgets/controls",
      "model_module_version": "1.5.0",
      "model_name": "HBoxModel",
      "state": {
       "_dom_classes": [],
       "_model_module": "@jupyter-widgets/controls",
       "_model_module_version": "1.5.0",
       "_model_name": "HBoxModel",
       "_view_count": null,
       "_view_module": "@jupyter-widgets/controls",
       "_view_module_version": "1.5.0",
       "_view_name": "HBoxView",
       "box_style": "",
       "children": [
        "IPY_MODEL_942dfc1312b34bc788ed7fa703cd8a63"
       ],
       "layout": "IPY_MODEL_2895cdbd2422419bb3c3f5a1dd790998"
      }
     },
     "7a78ad63e82c4edba169e753ef3d1f20": {
      "model_module": "@jupyter-widgets/base",
      "model_module_version": "1.2.0",
      "model_name": "LayoutModel",
      "state": {
       "_model_module": "@jupyter-widgets/base",
       "_model_module_version": "1.2.0",
       "_model_name": "LayoutModel",
       "_view_count": null,
       "_view_module": "@jupyter-widgets/base",
       "_view_module_version": "1.2.0",
       "_view_name": "LayoutView",
       "align_content": null,
       "align_items": null,
       "align_self": null,
       "border": null,
       "bottom": null,
       "display": null,
       "flex": null,
       "flex_flow": null,
       "grid_area": null,
       "grid_auto_columns": null,
       "grid_auto_flow": null,
       "grid_auto_rows": null,
       "grid_column": null,
       "grid_gap": null,
       "grid_row": null,
       "grid_template_areas": null,
       "grid_template_columns": null,
       "grid_template_rows": null,
       "height": null,
       "justify_content": null,
       "justify_items": null,
       "left": null,
       "margin": null,
       "max_height": null,
       "max_width": null,
       "min_height": null,
       "min_width": null,
       "object_fit": null,
       "object_position": null,
       "order": null,
       "overflow": null,
       "overflow_x": null,
       "overflow_y": null,
       "padding": null,
       "right": null,
       "top": null,
       "visibility": null,
       "width": null
      }
     },
     "7d86f765fbbb4296b0c12a931357f16f": {
      "model_module": "@jupyter-widgets/controls",
      "model_module_version": "1.5.0",
      "model_name": "DescriptionStyleModel",
      "state": {
       "_model_module": "@jupyter-widgets/controls",
       "_model_module_version": "1.5.0",
       "_model_name": "DescriptionStyleModel",
       "_view_count": null,
       "_view_module": "@jupyter-widgets/base",
       "_view_module_version": "1.2.0",
       "_view_name": "StyleView",
       "description_width": ""
      }
     },
     "84a165090c5647a3b93c21fb5dcbb2ca": {
      "model_module": "@jupyter-widgets/base",
      "model_module_version": "1.2.0",
      "model_name": "LayoutModel",
      "state": {
       "_model_module": "@jupyter-widgets/base",
       "_model_module_version": "1.2.0",
       "_model_name": "LayoutModel",
       "_view_count": null,
       "_view_module": "@jupyter-widgets/base",
       "_view_module_version": "1.2.0",
       "_view_name": "LayoutView",
       "align_content": null,
       "align_items": null,
       "align_self": null,
       "border": null,
       "bottom": null,
       "display": null,
       "flex": null,
       "flex_flow": null,
       "grid_area": null,
       "grid_auto_columns": null,
       "grid_auto_flow": null,
       "grid_auto_rows": null,
       "grid_column": null,
       "grid_gap": null,
       "grid_row": null,
       "grid_template_areas": null,
       "grid_template_columns": null,
       "grid_template_rows": null,
       "height": null,
       "justify_content": null,
       "justify_items": null,
       "left": null,
       "margin": null,
       "max_height": null,
       "max_width": null,
       "min_height": null,
       "min_width": null,
       "object_fit": null,
       "object_position": null,
       "order": null,
       "overflow": null,
       "overflow_x": null,
       "overflow_y": null,
       "padding": null,
       "right": null,
       "top": null,
       "visibility": null,
       "width": null
      }
     },
     "8aa79d9fae004961ba9a73a1772b6028": {
      "model_module": "@jupyter-widgets/base",
      "model_module_version": "1.2.0",
      "model_name": "LayoutModel",
      "state": {
       "_model_module": "@jupyter-widgets/base",
       "_model_module_version": "1.2.0",
       "_model_name": "LayoutModel",
       "_view_count": null,
       "_view_module": "@jupyter-widgets/base",
       "_view_module_version": "1.2.0",
       "_view_name": "LayoutView",
       "align_content": null,
       "align_items": null,
       "align_self": null,
       "border": null,
       "bottom": null,
       "display": null,
       "flex": null,
       "flex_flow": null,
       "grid_area": null,
       "grid_auto_columns": null,
       "grid_auto_flow": null,
       "grid_auto_rows": null,
       "grid_column": null,
       "grid_gap": null,
       "grid_row": null,
       "grid_template_areas": null,
       "grid_template_columns": null,
       "grid_template_rows": null,
       "height": null,
       "justify_content": null,
       "justify_items": null,
       "left": null,
       "margin": null,
       "max_height": null,
       "max_width": null,
       "min_height": null,
       "min_width": null,
       "object_fit": null,
       "object_position": null,
       "order": null,
       "overflow": null,
       "overflow_x": null,
       "overflow_y": null,
       "padding": null,
       "right": null,
       "top": null,
       "visibility": null,
       "width": null
      }
     },
     "942dfc1312b34bc788ed7fa703cd8a63": {
      "model_module": "@jupyter-widgets/controls",
      "model_module_version": "1.5.0",
      "model_name": "DropdownModel",
      "state": {
       "_dom_classes": [],
       "_model_module": "@jupyter-widgets/controls",
       "_model_module_version": "1.5.0",
       "_model_name": "DropdownModel",
       "_options_labels": [
        "Nuwara Eliya, Sri Lanka",
        "Badulla, Sri Lanka",
        "Kurunegala, Sri Lanka"
       ],
       "_view_count": null,
       "_view_module": "@jupyter-widgets/controls",
       "_view_module_version": "1.5.0",
       "_view_name": "DropdownView",
       "description": "",
       "description_tooltip": null,
       "disabled": false,
       "index": 0,
       "layout": "IPY_MODEL_76319595f1684cc8a6e9d8f8b8daf803",
       "style": "IPY_MODEL_7d86f765fbbb4296b0c12a931357f16f"
      }
     },
     "a06922ba913448a983cff43a643d8110": {
      "model_module": "@jupyter-widgets/output",
      "model_module_version": "1.0.0",
      "model_name": "OutputModel",
      "state": {
       "_dom_classes": [],
       "_model_module": "@jupyter-widgets/output",
       "_model_module_version": "1.0.0",
       "_model_name": "OutputModel",
       "_view_count": null,
       "_view_module": "@jupyter-widgets/output",
       "_view_module_version": "1.0.0",
       "_view_name": "OutputView",
       "layout": "IPY_MODEL_1ff538a0811f4515907cc29719dfe3a0",
       "msg_id": "",
       "outputs": []
      }
     },
     "ab005a929ff8439a90f61766a60fb602": {
      "model_module": "@jupyter-widgets/controls",
      "model_module_version": "1.5.0",
      "model_name": "DescriptionStyleModel",
      "state": {
       "_model_module": "@jupyter-widgets/controls",
       "_model_module_version": "1.5.0",
       "_model_name": "DescriptionStyleModel",
       "_view_count": null,
       "_view_module": "@jupyter-widgets/base",
       "_view_module_version": "1.2.0",
       "_view_name": "StyleView",
       "description_width": ""
      }
     },
     "c85b912bd61246e6960bfccbcc887555": {
      "model_module": "@jupyter-widgets/base",
      "model_module_version": "1.2.0",
      "model_name": "LayoutModel",
      "state": {
       "_model_module": "@jupyter-widgets/base",
       "_model_module_version": "1.2.0",
       "_model_name": "LayoutModel",
       "_view_count": null,
       "_view_module": "@jupyter-widgets/base",
       "_view_module_version": "1.2.0",
       "_view_name": "LayoutView",
       "align_content": null,
       "align_items": null,
       "align_self": null,
       "border": null,
       "bottom": null,
       "display": null,
       "flex": null,
       "flex_flow": null,
       "grid_area": null,
       "grid_auto_columns": null,
       "grid_auto_flow": null,
       "grid_auto_rows": null,
       "grid_column": null,
       "grid_gap": null,
       "grid_row": null,
       "grid_template_areas": null,
       "grid_template_columns": null,
       "grid_template_rows": null,
       "height": null,
       "justify_content": null,
       "justify_items": null,
       "left": null,
       "margin": null,
       "max_height": null,
       "max_width": null,
       "min_height": null,
       "min_width": null,
       "object_fit": null,
       "object_position": null,
       "order": null,
       "overflow": null,
       "overflow_x": null,
       "overflow_y": null,
       "padding": null,
       "right": null,
       "top": null,
       "visibility": null,
       "width": null
      }
     },
     "cbedb26d89844b04b9d66561a515b9d3": {
      "model_module": "@jupyter-widgets/controls",
      "model_module_version": "1.5.0",
      "model_name": "DropdownModel",
      "state": {
       "_dom_classes": [],
       "_model_module": "@jupyter-widgets/controls",
       "_model_module_version": "1.5.0",
       "_model_name": "DropdownModel",
       "_options_labels": [
        "0",
        "1",
        "2",
        "3",
        "4"
       ],
       "_view_count": null,
       "_view_module": "@jupyter-widgets/controls",
       "_view_module_version": "1.5.0",
       "_view_name": "DropdownView",
       "description": "m",
       "description_tooltip": null,
       "disabled": false,
       "index": 1,
       "layout": "IPY_MODEL_84a165090c5647a3b93c21fb5dcbb2ca",
       "style": "IPY_MODEL_ab005a929ff8439a90f61766a60fb602"
      }
     },
     "d134ee6d4f33447eb7d5f8e65f30686f": {
      "model_module": "@jupyter-widgets/controls",
      "model_module_version": "1.5.0",
      "model_name": "SliderStyleModel",
      "state": {
       "_model_module": "@jupyter-widgets/controls",
       "_model_module_version": "1.5.0",
       "_model_name": "SliderStyleModel",
       "_view_count": null,
       "_view_module": "@jupyter-widgets/base",
       "_view_module_version": "1.2.0",
       "_view_name": "StyleView",
       "description_width": "",
       "handle_color": null
      }
     }
    },
    "version_major": 2,
    "version_minor": 0
   }
  }
 },
 "nbformat": 4,
 "nbformat_minor": 4
}