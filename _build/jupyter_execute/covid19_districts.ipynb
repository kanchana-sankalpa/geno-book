{
 "cells": [
  {
   "cell_type": "markdown",
   "metadata": {},
   "source": [
    "# District Wise Infected Count\n",
    "\n",
    "Click the {fa}`rocket` --> {guilabel}`Live Code` button above on this page, and run the code below.\n",
    "In the frist attempt it might take some time to Binder to be \"ready\". If it's not repsonded click the button again."
   ]
  },
  {
   "cell_type": "code",
   "execution_count": 1,
   "metadata": {
    "interactive": true,
    "tags": [
     "thebe-init"
    ]
   },
   "outputs": [
    {
     "name": "stdout",
     "output_type": "stream",
     "text": [
      "Requirement already satisfied: pandas in d:\\github\\genostechbooks\\venv\\lib\\site-packages (1.3.4)\n",
      "Requirement already satisfied: numpy>=1.17.3 in d:\\github\\genostechbooks\\venv\\lib\\site-packages (from pandas) (1.21.3)\n",
      "Requirement already satisfied: python-dateutil>=2.7.3 in d:\\github\\genostechbooks\\venv\\lib\\site-packages (from pandas) (2.8.2)\n",
      "Requirement already satisfied: pytz>=2017.3 in d:\\github\\genostechbooks\\venv\\lib\\site-packages (from pandas) (2021.3)\n",
      "Requirement already satisfied: six>=1.5 in d:\\github\\genostechbooks\\venv\\lib\\site-packages (from python-dateutil>=2.7.3->pandas) (1.16.0)\n"
     ]
    },
    {
     "name": "stderr",
     "output_type": "stream",
     "text": [
      "WARNING: You are using pip version 21.2.3; however, version 21.3.1 is available.\n",
      "You should consider upgrading via the 'D:\\Github\\GenosTechBooks\\venv\\Scripts\\python.exe -m pip install --upgrade pip' command.\n"
     ]
    },
    {
     "name": "stdout",
     "output_type": "stream",
     "text": [
      "Requirement already satisfied: matplotlib in d:\\github\\genostechbooks\\venv\\lib\\site-packages (3.4.3)\n",
      "Requirement already satisfied: pillow>=6.2.0 in d:\\github\\genostechbooks\\venv\\lib\\site-packages (from matplotlib) (8.4.0)\n",
      "Requirement already satisfied: numpy>=1.16 in d:\\github\\genostechbooks\\venv\\lib\\site-packages (from matplotlib) (1.21.3)\n",
      "Requirement already satisfied: python-dateutil>=2.7 in d:\\github\\genostechbooks\\venv\\lib\\site-packages (from matplotlib) (2.8.2)\n",
      "Requirement already satisfied: pyparsing>=2.2.1 in d:\\github\\genostechbooks\\venv\\lib\\site-packages (from matplotlib) (3.0.0)\n",
      "Requirement already satisfied: cycler>=0.10 in d:\\github\\genostechbooks\\venv\\lib\\site-packages (from matplotlib) (0.10.0)\n",
      "Requirement already satisfied: kiwisolver>=1.0.1 in d:\\github\\genostechbooks\\venv\\lib\\site-packages (from matplotlib) (1.3.2)\n",
      "Requirement already satisfied: six in d:\\github\\genostechbooks\\venv\\lib\\site-packages (from cycler>=0.10->matplotlib) (1.16.0)\n"
     ]
    },
    {
     "name": "stderr",
     "output_type": "stream",
     "text": [
      "WARNING: You are using pip version 21.2.3; however, version 21.3.1 is available.\n",
      "You should consider upgrading via the 'D:\\Github\\GenosTechBooks\\venv\\Scripts\\python.exe -m pip install --upgrade pip' command.\n"
     ]
    },
    {
     "name": "stdout",
     "output_type": "stream",
     "text": [
      "Requirement already satisfied: seaborn in d:\\github\\genostechbooks\\venv\\lib\\site-packages (0.11.2)\n",
      "Requirement already satisfied: pandas>=0.23 in d:\\github\\genostechbooks\\venv\\lib\\site-packages (from seaborn) (1.3.4)\n",
      "Requirement already satisfied: numpy>=1.15 in d:\\github\\genostechbooks\\venv\\lib\\site-packages (from seaborn) (1.21.3)\n",
      "Requirement already satisfied: matplotlib>=2.2 in d:\\github\\genostechbooks\\venv\\lib\\site-packages (from seaborn) (3.4.3)\n",
      "Requirement already satisfied: scipy>=1.0 in d:\\github\\genostechbooks\\venv\\lib\\site-packages (from seaborn) (1.7.1)\n",
      "Requirement already satisfied: kiwisolver>=1.0.1 in d:\\github\\genostechbooks\\venv\\lib\\site-packages (from matplotlib>=2.2->seaborn) (1.3.2)\n",
      "Requirement already satisfied: python-dateutil>=2.7 in d:\\github\\genostechbooks\\venv\\lib\\site-packages (from matplotlib>=2.2->seaborn) (2.8.2)\n",
      "Requirement already satisfied: cycler>=0.10 in d:\\github\\genostechbooks\\venv\\lib\\site-packages (from matplotlib>=2.2->seaborn) (0.10.0)\n",
      "Requirement already satisfied: pyparsing>=2.2.1 in d:\\github\\genostechbooks\\venv\\lib\\site-packages (from matplotlib>=2.2->seaborn) (3.0.0)\n",
      "Requirement already satisfied: pillow>=6.2.0 in d:\\github\\genostechbooks\\venv\\lib\\site-packages (from matplotlib>=2.2->seaborn) (8.4.0)\n",
      "Requirement already satisfied: six in d:\\github\\genostechbooks\\venv\\lib\\site-packages (from cycler>=0.10->matplotlib>=2.2->seaborn) (1.16.0)\n",
      "Requirement already satisfied: pytz>=2017.3 in d:\\github\\genostechbooks\\venv\\lib\\site-packages (from pandas>=0.23->seaborn) (2021.3)\n"
     ]
    },
    {
     "name": "stderr",
     "output_type": "stream",
     "text": [
      "WARNING: You are using pip version 21.2.3; however, version 21.3.1 is available.\n",
      "You should consider upgrading via the 'D:\\Github\\GenosTechBooks\\venv\\Scripts\\python.exe -m pip install --upgrade pip' command.\n"
     ]
    },
    {
     "name": "stdout",
     "output_type": "stream",
     "text": [
      "Requirement already satisfied: ipywidgets in d:\\github\\genostechbooks\\venv\\lib\\site-packages (7.6.5)\n",
      "Requirement already satisfied: jupyterlab-widgets>=1.0.0 in d:\\github\\genostechbooks\\venv\\lib\\site-packages (from ipywidgets) (1.0.2)\n",
      "Requirement already satisfied: widgetsnbextension~=3.5.0 in d:\\github\\genostechbooks\\venv\\lib\\site-packages (from ipywidgets) (3.5.1)\n",
      "Requirement already satisfied: nbformat>=4.2.0 in d:\\github\\genostechbooks\\venv\\lib\\site-packages (from ipywidgets) (5.1.3)\n",
      "Requirement already satisfied: ipython-genutils~=0.2.0 in d:\\github\\genostechbooks\\venv\\lib\\site-packages (from ipywidgets) (0.2.0)\n",
      "Requirement already satisfied: ipykernel>=4.5.1 in d:\\github\\genostechbooks\\venv\\lib\\site-packages (from ipywidgets) (6.4.2)\n",
      "Requirement already satisfied: ipython>=4.0.0 in d:\\github\\genostechbooks\\venv\\lib\\site-packages (from ipywidgets) (7.28.0)\n",
      "Requirement already satisfied: traitlets>=4.3.1 in d:\\github\\genostechbooks\\venv\\lib\\site-packages (from ipywidgets) (5.1.0)\n",
      "Requirement already satisfied: matplotlib-inline<0.2.0,>=0.1.0 in d:\\github\\genostechbooks\\venv\\lib\\site-packages (from ipykernel>=4.5.1->ipywidgets) (0.1.3)\n",
      "Requirement already satisfied: tornado<7.0,>=4.2 in d:\\github\\genostechbooks\\venv\\lib\\site-packages (from ipykernel>=4.5.1->ipywidgets) (6.1)\n",
      "Requirement already satisfied: jupyter-client<8.0 in d:\\github\\genostechbooks\\venv\\lib\\site-packages (from ipykernel>=4.5.1->ipywidgets) (6.1.12)\n",
      "Requirement already satisfied: debugpy<2.0,>=1.0.0 in d:\\github\\genostechbooks\\venv\\lib\\site-packages (from ipykernel>=4.5.1->ipywidgets) (1.5.1)\n",
      "Requirement already satisfied: setuptools>=18.5 in d:\\github\\genostechbooks\\venv\\lib\\site-packages (from ipython>=4.0.0->ipywidgets) (57.4.0)\n",
      "Requirement already satisfied: backcall in d:\\github\\genostechbooks\\venv\\lib\\site-packages (from ipython>=4.0.0->ipywidgets) (0.2.0)\n",
      "Requirement already satisfied: colorama in d:\\github\\genostechbooks\\venv\\lib\\site-packages (from ipython>=4.0.0->ipywidgets) (0.4.4)\n",
      "Requirement already satisfied: prompt-toolkit!=3.0.0,!=3.0.1,<3.1.0,>=2.0.0 in d:\\github\\genostechbooks\\venv\\lib\\site-packages (from ipython>=4.0.0->ipywidgets) (3.0.21)\n",
      "Requirement already satisfied: pickleshare in d:\\github\\genostechbooks\\venv\\lib\\site-packages (from ipython>=4.0.0->ipywidgets) (0.7.5)\n",
      "Requirement already satisfied: pygments in d:\\github\\genostechbooks\\venv\\lib\\site-packages (from ipython>=4.0.0->ipywidgets) (2.10.0)\n",
      "Requirement already satisfied: jedi>=0.16 in d:\\github\\genostechbooks\\venv\\lib\\site-packages (from ipython>=4.0.0->ipywidgets) (0.18.0)\n",
      "Requirement already satisfied: decorator in d:\\github\\genostechbooks\\venv\\lib\\site-packages (from ipython>=4.0.0->ipywidgets) (5.1.0)\n",
      "Requirement already satisfied: parso<0.9.0,>=0.8.0 in d:\\github\\genostechbooks\\venv\\lib\\site-packages (from jedi>=0.16->ipython>=4.0.0->ipywidgets) (0.8.2)\n",
      "Requirement already satisfied: python-dateutil>=2.1 in d:\\github\\genostechbooks\\venv\\lib\\site-packages (from jupyter-client<8.0->ipykernel>=4.5.1->ipywidgets) (2.8.2)\n",
      "Requirement already satisfied: jupyter-core>=4.6.0 in d:\\github\\genostechbooks\\venv\\lib\\site-packages (from jupyter-client<8.0->ipykernel>=4.5.1->ipywidgets) (4.8.1)\n",
      "Requirement already satisfied: pyzmq>=13 in d:\\github\\genostechbooks\\venv\\lib\\site-packages (from jupyter-client<8.0->ipykernel>=4.5.1->ipywidgets) (22.3.0)\n",
      "Requirement already satisfied: pywin32>=1.0 in d:\\github\\genostechbooks\\venv\\lib\\site-packages (from jupyter-core>=4.6.0->jupyter-client<8.0->ipykernel>=4.5.1->ipywidgets) (302)\n",
      "Requirement already satisfied: jsonschema!=2.5.0,>=2.4 in d:\\github\\genostechbooks\\venv\\lib\\site-packages (from nbformat>=4.2.0->ipywidgets) (3.2.0)\n",
      "Requirement already satisfied: six>=1.11.0 in d:\\github\\genostechbooks\\venv\\lib\\site-packages (from jsonschema!=2.5.0,>=2.4->nbformat>=4.2.0->ipywidgets) (1.16.0)\n",
      "Requirement already satisfied: pyrsistent>=0.14.0 in d:\\github\\genostechbooks\\venv\\lib\\site-packages (from jsonschema!=2.5.0,>=2.4->nbformat>=4.2.0->ipywidgets) (0.18.0)\n",
      "Requirement already satisfied: attrs>=17.4.0 in d:\\github\\genostechbooks\\venv\\lib\\site-packages (from jsonschema!=2.5.0,>=2.4->nbformat>=4.2.0->ipywidgets) (21.2.0)\n",
      "Requirement already satisfied: wcwidth in d:\\github\\genostechbooks\\venv\\lib\\site-packages (from prompt-toolkit!=3.0.0,!=3.0.1,<3.1.0,>=2.0.0->ipython>=4.0.0->ipywidgets) (0.2.5)\n",
      "Requirement already satisfied: notebook>=4.4.1 in d:\\github\\genostechbooks\\venv\\lib\\site-packages (from widgetsnbextension~=3.5.0->ipywidgets) (6.4.5)\n",
      "Requirement already satisfied: prometheus-client in d:\\github\\genostechbooks\\venv\\lib\\site-packages (from notebook>=4.4.1->widgetsnbextension~=3.5.0->ipywidgets) (0.11.0)\n",
      "Requirement already satisfied: Send2Trash>=1.5.0 in d:\\github\\genostechbooks\\venv\\lib\\site-packages (from notebook>=4.4.1->widgetsnbextension~=3.5.0->ipywidgets) (1.8.0)\n",
      "Requirement already satisfied: terminado>=0.8.3 in d:\\github\\genostechbooks\\venv\\lib\\site-packages (from notebook>=4.4.1->widgetsnbextension~=3.5.0->ipywidgets) (0.12.1)\n",
      "Requirement already satisfied: jinja2 in d:\\github\\genostechbooks\\venv\\lib\\site-packages (from notebook>=4.4.1->widgetsnbextension~=3.5.0->ipywidgets) (3.0.2)\n",
      "Requirement already satisfied: nbconvert in d:\\github\\genostechbooks\\venv\\lib\\site-packages (from notebook>=4.4.1->widgetsnbextension~=3.5.0->ipywidgets) (6.2.0)\n",
      "Requirement already satisfied: argon2-cffi in d:\\github\\genostechbooks\\venv\\lib\\site-packages (from notebook>=4.4.1->widgetsnbextension~=3.5.0->ipywidgets) (21.1.0)\n",
      "Requirement already satisfied: pywinpty>=1.1.0 in d:\\github\\genostechbooks\\venv\\lib\\site-packages (from terminado>=0.8.3->notebook>=4.4.1->widgetsnbextension~=3.5.0->ipywidgets) (1.1.4)\n",
      "Requirement already satisfied: cffi>=1.0.0 in d:\\github\\genostechbooks\\venv\\lib\\site-packages (from argon2-cffi->notebook>=4.4.1->widgetsnbextension~=3.5.0->ipywidgets) (1.15.0)\n",
      "Requirement already satisfied: pycparser in d:\\github\\genostechbooks\\venv\\lib\\site-packages (from cffi>=1.0.0->argon2-cffi->notebook>=4.4.1->widgetsnbextension~=3.5.0->ipywidgets) (2.20)\n",
      "Requirement already satisfied: MarkupSafe>=2.0 in d:\\github\\genostechbooks\\venv\\lib\\site-packages (from jinja2->notebook>=4.4.1->widgetsnbextension~=3.5.0->ipywidgets) (2.0.1)\n",
      "Requirement already satisfied: mistune<2,>=0.8.1 in d:\\github\\genostechbooks\\venv\\lib\\site-packages (from nbconvert->notebook>=4.4.1->widgetsnbextension~=3.5.0->ipywidgets) (0.8.4)\n",
      "Requirement already satisfied: jupyterlab-pygments in d:\\github\\genostechbooks\\venv\\lib\\site-packages (from nbconvert->notebook>=4.4.1->widgetsnbextension~=3.5.0->ipywidgets) (0.1.2)\n",
      "Requirement already satisfied: bleach in d:\\github\\genostechbooks\\venv\\lib\\site-packages (from nbconvert->notebook>=4.4.1->widgetsnbextension~=3.5.0->ipywidgets) (4.1.0)\n",
      "Requirement already satisfied: defusedxml in d:\\github\\genostechbooks\\venv\\lib\\site-packages (from nbconvert->notebook>=4.4.1->widgetsnbextension~=3.5.0->ipywidgets) (0.7.1)\n",
      "Requirement already satisfied: pandocfilters>=1.4.1 in d:\\github\\genostechbooks\\venv\\lib\\site-packages (from nbconvert->notebook>=4.4.1->widgetsnbextension~=3.5.0->ipywidgets) (1.5.0)\n",
      "Requirement already satisfied: nbclient<0.6.0,>=0.5.0 in d:\\github\\genostechbooks\\venv\\lib\\site-packages (from nbconvert->notebook>=4.4.1->widgetsnbextension~=3.5.0->ipywidgets) (0.5.4)\n",
      "Requirement already satisfied: testpath in d:\\github\\genostechbooks\\venv\\lib\\site-packages (from nbconvert->notebook>=4.4.1->widgetsnbextension~=3.5.0->ipywidgets) (0.5.0)\n",
      "Requirement already satisfied: entrypoints>=0.2.2 in d:\\github\\genostechbooks\\venv\\lib\\site-packages (from nbconvert->notebook>=4.4.1->widgetsnbextension~=3.5.0->ipywidgets) (0.3)\n",
      "Requirement already satisfied: nest-asyncio in d:\\github\\genostechbooks\\venv\\lib\\site-packages (from nbclient<0.6.0,>=0.5.0->nbconvert->notebook>=4.4.1->widgetsnbextension~=3.5.0->ipywidgets) (1.5.1)\n",
      "Requirement already satisfied: webencodings in d:\\github\\genostechbooks\\venv\\lib\\site-packages (from bleach->nbconvert->notebook>=4.4.1->widgetsnbextension~=3.5.0->ipywidgets) (0.5.1)\n",
      "Requirement already satisfied: packaging in d:\\github\\genostechbooks\\venv\\lib\\site-packages (from bleach->nbconvert->notebook>=4.4.1->widgetsnbextension~=3.5.0->ipywidgets) (21.0)\n",
      "Requirement already satisfied: pyparsing>=2.0.2 in d:\\github\\genostechbooks\\venv\\lib\\site-packages (from packaging->bleach->nbconvert->notebook>=4.4.1->widgetsnbextension~=3.5.0->ipywidgets) (3.0.0)\n"
     ]
    },
    {
     "name": "stderr",
     "output_type": "stream",
     "text": [
      "WARNING: You are using pip version 21.2.3; however, version 21.3.1 is available.\n",
      "You should consider upgrading via the 'D:\\Github\\GenosTechBooks\\venv\\Scripts\\python.exe -m pip install --upgrade pip' command.\n"
     ]
    }
   ],
   "source": [
    "!pip install pandas\n",
    "!pip install matplotlib\n",
    "!pip install seaborn\n",
    "!pip install ipywidgets"
   ]
  },
  {
   "cell_type": "code",
   "execution_count": 2,
   "metadata": {
    "interactive": true,
    "tags": [
     "thebe-init"
    ]
   },
   "outputs": [],
   "source": [
    "from __future__ import print_function\n",
    "from ipywidgets import interact, interactive, fixed, interact_manual\n",
    "import ipywidgets as widgets\n",
    "import requests  # Import the requests library\n",
    "import pandas as pd\n",
    "import matplotlib.pyplot as plt\n",
    "import matplotlib as mpl\n",
    "import seaborn as sns"
   ]
  },
  {
   "cell_type": "code",
   "execution_count": 3,
   "metadata": {
    "tags": [
     "thebe-init",
     "hide_input",
     "hide_output"
    ]
   },
   "outputs": [
    {
     "data": {
      "text/html": [
       "<style>.toggle-button { display :none !important; }</style>"
      ],
      "text/plain": [
       "<IPython.core.display.HTML object>"
      ]
     },
     "metadata": {},
     "output_type": "display_data"
    },
    {
     "data": {
      "text/html": [
       "<style>.toggle-button-hidden { display :none !important; }</style>"
      ],
      "text/plain": [
       "<IPython.core.display.HTML object>"
      ]
     },
     "metadata": {},
     "output_type": "display_data"
    },
    {
     "data": {
      "text/html": [
       "<style>.button.toggle-button  { display :none !important; }</style>"
      ],
      "text/plain": [
       "<IPython.core.display.HTML object>"
      ]
     },
     "metadata": {},
     "output_type": "display_data"
    },
    {
     "data": {
      "text/html": [
       "<style>.fas fa-download { display :none !important; }</style>"
      ],
      "text/plain": [
       "<IPython.core.display.HTML object>"
      ]
     },
     "metadata": {},
     "output_type": "display_data"
    },
    {
     "name": "stdout",
     "output_type": "stream",
     "text": [
      "Data Request returned 200 : 'OK'\n"
     ]
    }
   ],
   "source": [
    "from IPython.core.display import display, HTML\n",
    "display(HTML(\"<style>.toggle-button { display :none !important; }</style>\"))\n",
    "display(HTML(\"<style>.toggle-button-hidden { display :none !important; }</style>\"))\n",
    "display(HTML(\"<style>.button.toggle-button  { display :none !important; }</style>\"))\n",
    "display(HTML(\"<style>.fas fa-download { display :none !important; }</style>\"))\n",
    "\n",
    "\n",
    "# Query URL\n",
    "url = ('https://covid19-healthylk.herokuapp.com/api/districtstotal?startdate=2021-08-31&enddate=2021-09-31')\n",
    "#print(url)\n",
    "response = requests.get(url)  # Make a GET request to the URL\n",
    "# Print status code (and associated text)\n",
    "print(f\"Data Request returned {response.status_code} : '{response.reason}'\")\n",
    "# Print data returned (parsing as JSON)\n",
    "payload = response.json()  # Parse `response.text` into JSON\n"
   ]
  },
  {
   "cell_type": "code",
   "execution_count": 4,
   "metadata": {
    "interactive": true,
    "tags": [
     "thebe-init"
    ]
   },
   "outputs": [
    {
     "name": "stdout",
     "output_type": "stream",
     "text": [
      "Dataset feactched as selected dataframe\n"
     ]
    }
   ],
   "source": [
    "data=pd.json_normalize(payload['data'])\n",
    "selected=data[[\"datetext\", \"counttext\",\"location.formattedAddress\"]]\n",
    "print('Dataset feactched as selected dataframe')\n",
    "#print(selected)\n",
    "#list(selected.columns.values)"
   ]
  },
  {
   "cell_type": "code",
   "execution_count": 5,
   "metadata": {
    "tags": [
     "thebe-init"
    ]
   },
   "outputs": [
    {
     "name": "stdout",
     "output_type": "stream",
     "text": [
      "By defult Nuwara Eliya District selected\n",
      "For other district select it form the dropdown below >>>\n"
     ]
    },
    {
     "data": {
      "application/vnd.jupyter.widget-view+json": {
       "model_id": "ec15a82a8da84a3780cd7ff2fd97dc72",
       "version_major": 2,
       "version_minor": 0
      },
      "text/plain": [
       "interactive(children=(Dropdown(description='x', options=('Nuwara Eliya, Sri Lanka', 'Badulla, Sri Lanka', 'Kur…"
      ]
     },
     "metadata": {},
     "output_type": "display_data"
    }
   ],
   "source": [
    "filtedVals= selected[selected['location.formattedAddress'].str.contains('Nuwara Eliya, Sri Lanka')]\n",
    "print('By defult Nuwara Eliya District selected')\n",
    "print('For other district select it form the dropdown below >>>')\n",
    "\n",
    "\n",
    "\n",
    "def f(x):\n",
    "    print(\"District changed to %s\" % x)\n",
    "    filtedVals=selected[selected['location.formattedAddress'].str.contains(x)]\n",
    "    print(filtedVals)\n",
    "    pivoted = pd.DataFrame(filtedVals.pivot_table(values='counttext', index='datetext', columns='location.formattedAddress', aggfunc='sum'))\n",
    "    return pivoted\n",
    "\n",
    "interact(f, x=['Nuwara Eliya, Sri Lanka', 'Badulla, Sri Lanka', 'Kurunegala, Sri Lanka']);\n",
    "\n",
    "\n",
    "\n",
    "#def foo(param):\n",
    "    #display(param)\n",
    "    #return param\n",
    "    #return pd.DataFrame({'Z':[param,param], 'A': ['b', 'b']})\n",
    "\n",
    "#params = widgets.Dropdown(options= ['Nuwara Eliya, Sri Lanka', 'Badulla, Sri Lanka', 'Kurunegala, Sri Lanka'])\n",
    "\n",
    "#bar = widgets.interactive_output(foo, {'param' : params})\n",
    "\n",
    "\n",
    "#c = widgets.IntSlider()\n",
    "\n",
    "#ui = widgets.HBox([params])\n",
    "def f2(params):\n",
    "    #print((params))\n",
    "    return params;\n",
    "\n",
    "#out = widgets.interactive_output(f2, {'params': params})\n",
    "\n",
    "#display(ui, out)\n",
    "\n",
    "\n",
    "#display(widgets.VBox([params, bar]))\n",
    "\n",
    "#display(ui, out)\n"
   ]
  },
  {
   "cell_type": "code",
   "execution_count": 6,
   "metadata": {
    "interactive": true,
    "tags": [
     "thebe-init"
    ]
   },
   "outputs": [
    {
     "name": "stdout",
     "output_type": "stream",
     "text": [
      "By defult Nuwara Eliya District selected\n",
      "For other district select it form the dropdown below >>>\n"
     ]
    },
    {
     "data": {
      "application/vnd.jupyter.widget-view+json": {
       "model_id": "87f3247c1e424bcba84b0807c73a8082",
       "version_major": 2,
       "version_minor": 0
      },
      "text/plain": [
       "Dropdown(description='District:', options=('Nuwara Eliya, Sri Lanka', 'Badulla, Sri Lanka', 'Kurunegala, Sri L…"
      ]
     },
     "metadata": {},
     "output_type": "display_data"
    }
   ],
   "source": [
    "filtedVals= selected[selected['location.formattedAddress'].str.contains('Nuwara Eliya, Sri Lanka')]\n",
    "print('By defult Nuwara Eliya District selected')\n",
    "print('For other district select it form the dropdown below >>>')\n",
    "#print(filtedVals)\n",
    "w = widgets.Dropdown(\n",
    "    options=['Nuwara Eliya, Sri Lanka', 'Badulla, Sri Lanka', 'Kurunegala, Sri Lanka'],\n",
    "    value='Nuwara Eliya, Sri Lanka',\n",
    "    description='District:',\n",
    ")\n",
    "\n",
    "def on_change(change):\n",
    "    if change['type'] == 'change' and change['name'] == 'value':\n",
    "        print(\"District changed to %s\" % change['new'])\n",
    "        filtedVals=selected[selected['location.formattedAddress'].str.contains(change['new'])]\n",
    "        #print(filtedVals)\n",
    "        pivoted = pd.DataFrame(filtedVals.pivot_table(values='counttext', index='datetext', columns='location.formattedAddress', aggfunc='sum'))\n",
    "        #print(list(pivoted.columns.values))\n",
    "        #pivoted = pivoted.set_index('datetext')\n",
    "        #print(pivoted)\n",
    "        \n",
    "        # figure size globally set for matplotlib\n",
    "        mpl.rcParams['figure.figsize'] = (20, 20)\n",
    "        mpl.rcParams['axes.grid'] = False\n",
    "\n",
    "        ax = pivoted.plot()\n",
    "        #ax.set_color_palette(sns.color_palette(\"muted\"))\n",
    "        pivoted.plot(ax=ax)\n",
    "        plt.legend(loc='best',prop={'size': 9}) \n",
    "        plt.show() \n",
    "\n",
    "w.observe(on_change)\n",
    "\n",
    "display(w)"
   ]
  },
  {
   "cell_type": "code",
   "execution_count": 7,
   "metadata": {},
   "outputs": [
    {
     "data": {
      "application/vnd.jupyter.widget-view+json": {
       "model_id": "568c502088d74682be33696f489f4170",
       "version_major": 2,
       "version_minor": 0
      },
      "text/plain": [
       "interactive(children=(Dropdown(description='m', index=1, options=(0, 1, 2, 3, 4), value=1), Output()), _dom_cl…"
      ]
     },
     "metadata": {},
     "output_type": "display_data"
    }
   ],
   "source": [
    "import numpy as np\n",
    "x = np.random.uniform(0, 5, size=100)\n",
    "ep = np.random.normal(size=100)\n",
    "\n",
    "y = 2*x + ep\n",
    "x_values = np.linspace(0, 5, 1000)\n",
    "\n",
    "def slope_viz(m=1):\n",
    "    plt.scatter(x, y)\n",
    "    plt.plot(x_values, m*x_values, lw=3, color='black')\n",
    "    \n",
    "    plt.ylim(-1.2, 12.2);\n",
    "\n",
    "widgets.interact(slope_viz, m=[0, 1, 2, 3, 4]);"
   ]
  },
  {
   "cell_type": "code",
   "execution_count": null,
   "metadata": {},
   "outputs": [],
   "source": []
  },
  {
   "cell_type": "code",
   "execution_count": null,
   "metadata": {},
   "outputs": [],
   "source": []
  }
 ],
 "metadata": {
  "celltoolbar": "Edit Metadata",
  "interpreter": {
   "hash": "3737066df5c064be03a6248772db1e76653979943fb860cf16d8d5c69b137dfa"
  },
  "kernelspec": {
   "display_name": "Python 3",
   "language": "python",
   "name": "python3"
  },
  "language_info": {
   "codemirror_mode": {
    "name": "ipython",
    "version": 3
   },
   "file_extension": ".py",
   "mimetype": "text/x-python",
   "name": "python",
   "nbconvert_exporter": "python",
   "pygments_lexer": "ipython3",
   "version": "3.9.7"
  },
  "widgets": {
   "application/vnd.jupyter.widget-state+json": {
    "state": {
     "0797f51b6c1c41d9822605f6f3d70198": {
      "model_module": "@jupyter-widgets/base",
      "model_module_version": "1.2.0",
      "model_name": "LayoutModel",
      "state": {
       "_model_module": "@jupyter-widgets/base",
       "_model_module_version": "1.2.0",
       "_model_name": "LayoutModel",
       "_view_count": null,
       "_view_module": "@jupyter-widgets/base",
       "_view_module_version": "1.2.0",
       "_view_name": "LayoutView",
       "align_content": null,
       "align_items": null,
       "align_self": null,
       "border": null,
       "bottom": null,
       "display": null,
       "flex": null,
       "flex_flow": null,
       "grid_area": null,
       "grid_auto_columns": null,
       "grid_auto_flow": null,
       "grid_auto_rows": null,
       "grid_column": null,
       "grid_gap": null,
       "grid_row": null,
       "grid_template_areas": null,
       "grid_template_columns": null,
       "grid_template_rows": null,
       "height": null,
       "justify_content": null,
       "justify_items": null,
       "left": null,
       "margin": null,
       "max_height": null,
       "max_width": null,
       "min_height": null,
       "min_width": null,
       "object_fit": null,
       "object_position": null,
       "order": null,
       "overflow": null,
       "overflow_x": null,
       "overflow_y": null,
       "padding": null,
       "right": null,
       "top": null,
       "visibility": null,
       "width": null
      }
     },
     "0d717e05c78e4fb3aa0d4cf43f3f345e": {
      "model_module": "@jupyter-widgets/base",
      "model_module_version": "1.2.0",
      "model_name": "LayoutModel",
      "state": {
       "_model_module": "@jupyter-widgets/base",
       "_model_module_version": "1.2.0",
       "_model_name": "LayoutModel",
       "_view_count": null,
       "_view_module": "@jupyter-widgets/base",
       "_view_module_version": "1.2.0",
       "_view_name": "LayoutView",
       "align_content": null,
       "align_items": null,
       "align_self": null,
       "border": null,
       "bottom": null,
       "display": null,
       "flex": null,
       "flex_flow": null,
       "grid_area": null,
       "grid_auto_columns": null,
       "grid_auto_flow": null,
       "grid_auto_rows": null,
       "grid_column": null,
       "grid_gap": null,
       "grid_row": null,
       "grid_template_areas": null,
       "grid_template_columns": null,
       "grid_template_rows": null,
       "height": null,
       "justify_content": null,
       "justify_items": null,
       "left": null,
       "margin": null,
       "max_height": null,
       "max_width": null,
       "min_height": null,
       "min_width": null,
       "object_fit": null,
       "object_position": null,
       "order": null,
       "overflow": null,
       "overflow_x": null,
       "overflow_y": null,
       "padding": null,
       "right": null,
       "top": null,
       "visibility": null,
       "width": null
      }
     },
     "174414bc98e54460bc5bf83a4e69072a": {
      "model_module": "@jupyter-widgets/controls",
      "model_module_version": "1.5.0",
      "model_name": "DropdownModel",
      "state": {
       "_dom_classes": [],
       "_model_module": "@jupyter-widgets/controls",
       "_model_module_version": "1.5.0",
       "_model_name": "DropdownModel",
       "_options_labels": [
        "0",
        "1",
        "2",
        "3",
        "4"
       ],
       "_view_count": null,
       "_view_module": "@jupyter-widgets/controls",
       "_view_module_version": "1.5.0",
       "_view_name": "DropdownView",
       "description": "m",
       "description_tooltip": null,
       "disabled": false,
       "index": 1,
       "layout": "IPY_MODEL_d10e89af6fad41e5842e169bfc1beace",
       "style": "IPY_MODEL_ad879eac7b4a4b31b7cedbda75e00305"
      }
     },
     "2994a32a616a4cfe8ea393dd9a82c09d": {
      "model_module": "@jupyter-widgets/output",
      "model_module_version": "1.0.0",
      "model_name": "OutputModel",
      "state": {
       "_dom_classes": [],
       "_model_module": "@jupyter-widgets/output",
       "_model_module_version": "1.0.0",
       "_model_name": "OutputModel",
       "_view_count": null,
       "_view_module": "@jupyter-widgets/output",
       "_view_module_version": "1.0.0",
       "_view_name": "OutputView",
       "layout": "IPY_MODEL_a5a3b957311e4051b3c07474a9014eb4",
       "msg_id": "",
       "outputs": [
        {
         "name": "stdout",
         "output_type": "stream",
         "text": "District changed to Nuwara Eliya, Sri Lanka\n       datetext  counttext               location.formattedAddress\n21   2021-09-30          4                 Nuwara Eliya, Sri Lanka\n30   2021-09-29         16                 Nuwara Eliya, Sri Lanka\n31   2021-09-29         10   Nuwara Eliya, Nuwara Eliya, Sri Lanka\n55   2021-09-28         16                 Nuwara Eliya, Sri Lanka\n56   2021-09-28         10   Nuwara Eliya, Nuwara Eliya, Sri Lanka\n77   2021-09-27         20                 Nuwara Eliya, Sri Lanka\n99   2021-09-26         17                 Nuwara Eliya, Sri Lanka\n132  2021-09-25         21                 Nuwara Eliya, Sri Lanka\n133  2021-09-25         13  Bogawantalawa, Nuwara Eliya, Sri Lanka\n153  2021-09-24         11                 Nuwara Eliya, Sri Lanka\n178  2021-09-23          9                 Nuwara Eliya, Sri Lanka\n203  2021-09-22         16                 Nuwara Eliya, Sri Lanka\n204  2021-09-22         12       Kotagala, Nuwara Eliya, Sri Lanka\n205  2021-09-22         10  Hanguranketha, Nuwara Eliya, Sri Lanka\n225  2021-09-21         20                 Nuwara Eliya, Sri Lanka\n261  2021-09-20         30                 Nuwara Eliya, Sri Lanka\n287  2021-09-19         31                 Nuwara Eliya, Sri Lanka\n288  2021-09-19         26  Hanguranketha, Nuwara Eliya, Sri Lanka\n289  2021-09-19         16  Bogawantalawa, Nuwara Eliya, Sri Lanka\n310  2021-09-18         23                 Nuwara Eliya, Sri Lanka\n311  2021-09-18         17       Walapane, Nuwara Eliya, Sri Lanka\n335  2021-09-17         32                 Nuwara Eliya, Sri Lanka\n357  2021-09-16         28                 Nuwara Eliya, Sri Lanka\n379  2021-09-15          7                 Nuwara Eliya, Sri Lanka\n380  2021-09-15         13   Nuwara Eliya, Nuwara Eliya, Sri Lanka\n381  2021-09-15         14        Lindula, Nuwara Eliya, Sri Lanka\n382  2021-09-15         10       Kotagala, Nuwara Eliya, Sri Lanka\n383  2021-09-15         11     Ambagamuwa, Nuwara Eliya, Sri Lanka\n387  2021-09-14         26                 Nuwara Eliya, Sri Lanka\n404  2021-09-13         16                 Nuwara Eliya, Sri Lanka\n412  2021-09-12         25                 Nuwara Eliya, Sri Lanka\n417  2021-09-11         16                 Nuwara Eliya, Sri Lanka\n418  2021-09-11         18   Nuwara Eliya, Nuwara Eliya, Sri Lanka\n452  2021-09-10         29                 Nuwara Eliya, Sri Lanka\n453  2021-09-10         13   Nuwara Eliya, Nuwara Eliya, Sri Lanka\n454  2021-09-10          9     Ambagamuwa, Nuwara Eliya, Sri Lanka\n473  2021-09-09         11                 Nuwara Eliya, Sri Lanka\n474  2021-09-09         11   Nuwara Eliya, Nuwara Eliya, Sri Lanka\n475  2021-09-09          9      Maskeliya, Nuwara Eliya, Sri Lanka\n476  2021-09-09         16     Ambagamuwa, Nuwara Eliya, Sri Lanka\n482  2021-09-08         51                 Nuwara Eliya, Sri Lanka\n483  2021-09-08         21   Nuwara Eliya, Nuwara Eliya, Sri Lanka\n505  2021-09-07         24                 Nuwara Eliya, Sri Lanka\n526  2021-09-06         75                 Nuwara Eliya, Sri Lanka\n530  2021-09-05         15                 Nuwara Eliya, Sri Lanka\n531  2021-09-05         14   Nuwara Eliya, Nuwara Eliya, Sri Lanka\n532  2021-09-05         56        Kotmale, Nuwara Eliya, Sri Lanka\n545  2021-09-04         97                 Nuwara Eliya, Sri Lanka\n559  2021-09-03         39                 Nuwara Eliya, Sri Lanka\n569  2021-09-02        113                 Nuwara Eliya, Sri Lanka\n637  2021-08-31         18     Ambagamuwa, Nuwara Eliya, Sri Lanka\n638  2021-08-31         15                 Nuwara Eliya, Sri Lanka\n639  2021-08-31         20   Nuwara Eliya, Nuwara Eliya, Sri Lanka\n640  2021-08-31         18     Ambagamuwa, Nuwara Eliya, Sri Lanka\n"
        },
        {
         "data": {
          "text/html": "<div>\n<style scoped>\n    .dataframe tbody tr th:only-of-type {\n        vertical-align: middle;\n    }\n\n    .dataframe tbody tr th {\n        vertical-align: top;\n    }\n\n    .dataframe thead th {\n        text-align: right;\n    }\n</style>\n<table border=\"1\" class=\"dataframe\">\n  <thead>\n    <tr style=\"text-align: right;\">\n      <th>location.formattedAddress</th>\n      <th>Ambagamuwa, Nuwara Eliya, Sri Lanka</th>\n      <th>Bogawantalawa, Nuwara Eliya, Sri Lanka</th>\n      <th>Hanguranketha, Nuwara Eliya, Sri Lanka</th>\n      <th>Kotagala, Nuwara Eliya, Sri Lanka</th>\n      <th>Kotmale, Nuwara Eliya, Sri Lanka</th>\n      <th>Lindula, Nuwara Eliya, Sri Lanka</th>\n      <th>Maskeliya, Nuwara Eliya, Sri Lanka</th>\n      <th>Nuwara Eliya, Nuwara Eliya, Sri Lanka</th>\n      <th>Nuwara Eliya, Sri Lanka</th>\n      <th>Walapane, Nuwara Eliya, Sri Lanka</th>\n    </tr>\n    <tr>\n      <th>datetext</th>\n      <th></th>\n      <th></th>\n      <th></th>\n      <th></th>\n      <th></th>\n      <th></th>\n      <th></th>\n      <th></th>\n      <th></th>\n      <th></th>\n    </tr>\n  </thead>\n  <tbody>\n    <tr>\n      <th>2021-08-31</th>\n      <td>36.0</td>\n      <td>NaN</td>\n      <td>NaN</td>\n      <td>NaN</td>\n      <td>NaN</td>\n      <td>NaN</td>\n      <td>NaN</td>\n      <td>20.0</td>\n      <td>15.0</td>\n      <td>NaN</td>\n    </tr>\n    <tr>\n      <th>2021-09-02</th>\n      <td>NaN</td>\n      <td>NaN</td>\n      <td>NaN</td>\n      <td>NaN</td>\n      <td>NaN</td>\n      <td>NaN</td>\n      <td>NaN</td>\n      <td>NaN</td>\n      <td>113.0</td>\n      <td>NaN</td>\n    </tr>\n    <tr>\n      <th>2021-09-03</th>\n      <td>NaN</td>\n      <td>NaN</td>\n      <td>NaN</td>\n      <td>NaN</td>\n      <td>NaN</td>\n      <td>NaN</td>\n      <td>NaN</td>\n      <td>NaN</td>\n      <td>39.0</td>\n      <td>NaN</td>\n    </tr>\n    <tr>\n      <th>2021-09-04</th>\n      <td>NaN</td>\n      <td>NaN</td>\n      <td>NaN</td>\n      <td>NaN</td>\n      <td>NaN</td>\n      <td>NaN</td>\n      <td>NaN</td>\n      <td>NaN</td>\n      <td>97.0</td>\n      <td>NaN</td>\n    </tr>\n    <tr>\n      <th>2021-09-05</th>\n      <td>NaN</td>\n      <td>NaN</td>\n      <td>NaN</td>\n      <td>NaN</td>\n      <td>56.0</td>\n      <td>NaN</td>\n      <td>NaN</td>\n      <td>14.0</td>\n      <td>15.0</td>\n      <td>NaN</td>\n    </tr>\n    <tr>\n      <th>2021-09-06</th>\n      <td>NaN</td>\n      <td>NaN</td>\n      <td>NaN</td>\n      <td>NaN</td>\n      <td>NaN</td>\n      <td>NaN</td>\n      <td>NaN</td>\n      <td>NaN</td>\n      <td>75.0</td>\n      <td>NaN</td>\n    </tr>\n    <tr>\n      <th>2021-09-07</th>\n      <td>NaN</td>\n      <td>NaN</td>\n      <td>NaN</td>\n      <td>NaN</td>\n      <td>NaN</td>\n      <td>NaN</td>\n      <td>NaN</td>\n      <td>NaN</td>\n      <td>24.0</td>\n      <td>NaN</td>\n    </tr>\n    <tr>\n      <th>2021-09-08</th>\n      <td>NaN</td>\n      <td>NaN</td>\n      <td>NaN</td>\n      <td>NaN</td>\n      <td>NaN</td>\n      <td>NaN</td>\n      <td>NaN</td>\n      <td>21.0</td>\n      <td>51.0</td>\n      <td>NaN</td>\n    </tr>\n    <tr>\n      <th>2021-09-09</th>\n      <td>16.0</td>\n      <td>NaN</td>\n      <td>NaN</td>\n      <td>NaN</td>\n      <td>NaN</td>\n      <td>NaN</td>\n      <td>9.0</td>\n      <td>11.0</td>\n      <td>11.0</td>\n      <td>NaN</td>\n    </tr>\n    <tr>\n      <th>2021-09-10</th>\n      <td>9.0</td>\n      <td>NaN</td>\n      <td>NaN</td>\n      <td>NaN</td>\n      <td>NaN</td>\n      <td>NaN</td>\n      <td>NaN</td>\n      <td>13.0</td>\n      <td>29.0</td>\n      <td>NaN</td>\n    </tr>\n    <tr>\n      <th>2021-09-11</th>\n      <td>NaN</td>\n      <td>NaN</td>\n      <td>NaN</td>\n      <td>NaN</td>\n      <td>NaN</td>\n      <td>NaN</td>\n      <td>NaN</td>\n      <td>18.0</td>\n      <td>16.0</td>\n      <td>NaN</td>\n    </tr>\n    <tr>\n      <th>2021-09-12</th>\n      <td>NaN</td>\n      <td>NaN</td>\n      <td>NaN</td>\n      <td>NaN</td>\n      <td>NaN</td>\n      <td>NaN</td>\n      <td>NaN</td>\n      <td>NaN</td>\n      <td>25.0</td>\n      <td>NaN</td>\n    </tr>\n    <tr>\n      <th>2021-09-13</th>\n      <td>NaN</td>\n      <td>NaN</td>\n      <td>NaN</td>\n      <td>NaN</td>\n      <td>NaN</td>\n      <td>NaN</td>\n      <td>NaN</td>\n      <td>NaN</td>\n      <td>16.0</td>\n      <td>NaN</td>\n    </tr>\n    <tr>\n      <th>2021-09-14</th>\n      <td>NaN</td>\n      <td>NaN</td>\n      <td>NaN</td>\n      <td>NaN</td>\n      <td>NaN</td>\n      <td>NaN</td>\n      <td>NaN</td>\n      <td>NaN</td>\n      <td>26.0</td>\n      <td>NaN</td>\n    </tr>\n    <tr>\n      <th>2021-09-15</th>\n      <td>11.0</td>\n      <td>NaN</td>\n      <td>NaN</td>\n      <td>10.0</td>\n      <td>NaN</td>\n      <td>14.0</td>\n      <td>NaN</td>\n      <td>13.0</td>\n      <td>7.0</td>\n      <td>NaN</td>\n    </tr>\n    <tr>\n      <th>2021-09-16</th>\n      <td>NaN</td>\n      <td>NaN</td>\n      <td>NaN</td>\n      <td>NaN</td>\n      <td>NaN</td>\n      <td>NaN</td>\n      <td>NaN</td>\n      <td>NaN</td>\n      <td>28.0</td>\n      <td>NaN</td>\n    </tr>\n    <tr>\n      <th>2021-09-17</th>\n      <td>NaN</td>\n      <td>NaN</td>\n      <td>NaN</td>\n      <td>NaN</td>\n      <td>NaN</td>\n      <td>NaN</td>\n      <td>NaN</td>\n      <td>NaN</td>\n      <td>32.0</td>\n      <td>NaN</td>\n    </tr>\n    <tr>\n      <th>2021-09-18</th>\n      <td>NaN</td>\n      <td>NaN</td>\n      <td>NaN</td>\n      <td>NaN</td>\n      <td>NaN</td>\n      <td>NaN</td>\n      <td>NaN</td>\n      <td>NaN</td>\n      <td>23.0</td>\n      <td>17.0</td>\n    </tr>\n    <tr>\n      <th>2021-09-19</th>\n      <td>NaN</td>\n      <td>16.0</td>\n      <td>26.0</td>\n      <td>NaN</td>\n      <td>NaN</td>\n      <td>NaN</td>\n      <td>NaN</td>\n      <td>NaN</td>\n      <td>31.0</td>\n      <td>NaN</td>\n    </tr>\n    <tr>\n      <th>2021-09-20</th>\n      <td>NaN</td>\n      <td>NaN</td>\n      <td>NaN</td>\n      <td>NaN</td>\n      <td>NaN</td>\n      <td>NaN</td>\n      <td>NaN</td>\n      <td>NaN</td>\n      <td>30.0</td>\n      <td>NaN</td>\n    </tr>\n    <tr>\n      <th>2021-09-21</th>\n      <td>NaN</td>\n      <td>NaN</td>\n      <td>NaN</td>\n      <td>NaN</td>\n      <td>NaN</td>\n      <td>NaN</td>\n      <td>NaN</td>\n      <td>NaN</td>\n      <td>20.0</td>\n      <td>NaN</td>\n    </tr>\n    <tr>\n      <th>2021-09-22</th>\n      <td>NaN</td>\n      <td>NaN</td>\n      <td>10.0</td>\n      <td>12.0</td>\n      <td>NaN</td>\n      <td>NaN</td>\n      <td>NaN</td>\n      <td>NaN</td>\n      <td>16.0</td>\n      <td>NaN</td>\n    </tr>\n    <tr>\n      <th>2021-09-23</th>\n      <td>NaN</td>\n      <td>NaN</td>\n      <td>NaN</td>\n      <td>NaN</td>\n      <td>NaN</td>\n      <td>NaN</td>\n      <td>NaN</td>\n      <td>NaN</td>\n      <td>9.0</td>\n      <td>NaN</td>\n    </tr>\n    <tr>\n      <th>2021-09-24</th>\n      <td>NaN</td>\n      <td>NaN</td>\n      <td>NaN</td>\n      <td>NaN</td>\n      <td>NaN</td>\n      <td>NaN</td>\n      <td>NaN</td>\n      <td>NaN</td>\n      <td>11.0</td>\n      <td>NaN</td>\n    </tr>\n    <tr>\n      <th>2021-09-25</th>\n      <td>NaN</td>\n      <td>13.0</td>\n      <td>NaN</td>\n      <td>NaN</td>\n      <td>NaN</td>\n      <td>NaN</td>\n      <td>NaN</td>\n      <td>NaN</td>\n      <td>21.0</td>\n      <td>NaN</td>\n    </tr>\n    <tr>\n      <th>2021-09-26</th>\n      <td>NaN</td>\n      <td>NaN</td>\n      <td>NaN</td>\n      <td>NaN</td>\n      <td>NaN</td>\n      <td>NaN</td>\n      <td>NaN</td>\n      <td>NaN</td>\n      <td>17.0</td>\n      <td>NaN</td>\n    </tr>\n    <tr>\n      <th>2021-09-27</th>\n      <td>NaN</td>\n      <td>NaN</td>\n      <td>NaN</td>\n      <td>NaN</td>\n      <td>NaN</td>\n      <td>NaN</td>\n      <td>NaN</td>\n      <td>NaN</td>\n      <td>20.0</td>\n      <td>NaN</td>\n    </tr>\n    <tr>\n      <th>2021-09-28</th>\n      <td>NaN</td>\n      <td>NaN</td>\n      <td>NaN</td>\n      <td>NaN</td>\n      <td>NaN</td>\n      <td>NaN</td>\n      <td>NaN</td>\n      <td>10.0</td>\n      <td>16.0</td>\n      <td>NaN</td>\n    </tr>\n    <tr>\n      <th>2021-09-29</th>\n      <td>NaN</td>\n      <td>NaN</td>\n      <td>NaN</td>\n      <td>NaN</td>\n      <td>NaN</td>\n      <td>NaN</td>\n      <td>NaN</td>\n      <td>10.0</td>\n      <td>16.0</td>\n      <td>NaN</td>\n    </tr>\n    <tr>\n      <th>2021-09-30</th>\n      <td>NaN</td>\n      <td>NaN</td>\n      <td>NaN</td>\n      <td>NaN</td>\n      <td>NaN</td>\n      <td>NaN</td>\n      <td>NaN</td>\n      <td>NaN</td>\n      <td>4.0</td>\n      <td>NaN</td>\n    </tr>\n  </tbody>\n</table>\n</div>",
          "text/plain": "location.formattedAddress  Ambagamuwa, Nuwara Eliya, Sri Lanka  \\\ndatetext                                                         \n2021-08-31                                                36.0   \n2021-09-02                                                 NaN   \n2021-09-03                                                 NaN   \n2021-09-04                                                 NaN   \n2021-09-05                                                 NaN   \n2021-09-06                                                 NaN   \n2021-09-07                                                 NaN   \n2021-09-08                                                 NaN   \n2021-09-09                                                16.0   \n2021-09-10                                                 9.0   \n2021-09-11                                                 NaN   \n2021-09-12                                                 NaN   \n2021-09-13                                                 NaN   \n2021-09-14                                                 NaN   \n2021-09-15                                                11.0   \n2021-09-16                                                 NaN   \n2021-09-17                                                 NaN   \n2021-09-18                                                 NaN   \n2021-09-19                                                 NaN   \n2021-09-20                                                 NaN   \n2021-09-21                                                 NaN   \n2021-09-22                                                 NaN   \n2021-09-23                                                 NaN   \n2021-09-24                                                 NaN   \n2021-09-25                                                 NaN   \n2021-09-26                                                 NaN   \n2021-09-27                                                 NaN   \n2021-09-28                                                 NaN   \n2021-09-29                                                 NaN   \n2021-09-30                                                 NaN   \n\nlocation.formattedAddress  Bogawantalawa, Nuwara Eliya, Sri Lanka  \\\ndatetext                                                            \n2021-08-31                                                    NaN   \n2021-09-02                                                    NaN   \n2021-09-03                                                    NaN   \n2021-09-04                                                    NaN   \n2021-09-05                                                    NaN   \n2021-09-06                                                    NaN   \n2021-09-07                                                    NaN   \n2021-09-08                                                    NaN   \n2021-09-09                                                    NaN   \n2021-09-10                                                    NaN   \n2021-09-11                                                    NaN   \n2021-09-12                                                    NaN   \n2021-09-13                                                    NaN   \n2021-09-14                                                    NaN   \n2021-09-15                                                    NaN   \n2021-09-16                                                    NaN   \n2021-09-17                                                    NaN   \n2021-09-18                                                    NaN   \n2021-09-19                                                   16.0   \n2021-09-20                                                    NaN   \n2021-09-21                                                    NaN   \n2021-09-22                                                    NaN   \n2021-09-23                                                    NaN   \n2021-09-24                                                    NaN   \n2021-09-25                                                   13.0   \n2021-09-26                                                    NaN   \n2021-09-27                                                    NaN   \n2021-09-28                                                    NaN   \n2021-09-29                                                    NaN   \n2021-09-30                                                    NaN   \n\nlocation.formattedAddress  Hanguranketha, Nuwara Eliya, Sri Lanka  \\\ndatetext                                                            \n2021-08-31                                                    NaN   \n2021-09-02                                                    NaN   \n2021-09-03                                                    NaN   \n2021-09-04                                                    NaN   \n2021-09-05                                                    NaN   \n2021-09-06                                                    NaN   \n2021-09-07                                                    NaN   \n2021-09-08                                                    NaN   \n2021-09-09                                                    NaN   \n2021-09-10                                                    NaN   \n2021-09-11                                                    NaN   \n2021-09-12                                                    NaN   \n2021-09-13                                                    NaN   \n2021-09-14                                                    NaN   \n2021-09-15                                                    NaN   \n2021-09-16                                                    NaN   \n2021-09-17                                                    NaN   \n2021-09-18                                                    NaN   \n2021-09-19                                                   26.0   \n2021-09-20                                                    NaN   \n2021-09-21                                                    NaN   \n2021-09-22                                                   10.0   \n2021-09-23                                                    NaN   \n2021-09-24                                                    NaN   \n2021-09-25                                                    NaN   \n2021-09-26                                                    NaN   \n2021-09-27                                                    NaN   \n2021-09-28                                                    NaN   \n2021-09-29                                                    NaN   \n2021-09-30                                                    NaN   \n\nlocation.formattedAddress  Kotagala, Nuwara Eliya, Sri Lanka  \\\ndatetext                                                       \n2021-08-31                                               NaN   \n2021-09-02                                               NaN   \n2021-09-03                                               NaN   \n2021-09-04                                               NaN   \n2021-09-05                                               NaN   \n2021-09-06                                               NaN   \n2021-09-07                                               NaN   \n2021-09-08                                               NaN   \n2021-09-09                                               NaN   \n2021-09-10                                               NaN   \n2021-09-11                                               NaN   \n2021-09-12                                               NaN   \n2021-09-13                                               NaN   \n2021-09-14                                               NaN   \n2021-09-15                                              10.0   \n2021-09-16                                               NaN   \n2021-09-17                                               NaN   \n2021-09-18                                               NaN   \n2021-09-19                                               NaN   \n2021-09-20                                               NaN   \n2021-09-21                                               NaN   \n2021-09-22                                              12.0   \n2021-09-23                                               NaN   \n2021-09-24                                               NaN   \n2021-09-25                                               NaN   \n2021-09-26                                               NaN   \n2021-09-27                                               NaN   \n2021-09-28                                               NaN   \n2021-09-29                                               NaN   \n2021-09-30                                               NaN   \n\nlocation.formattedAddress  Kotmale, Nuwara Eliya, Sri Lanka  \\\ndatetext                                                      \n2021-08-31                                              NaN   \n2021-09-02                                              NaN   \n2021-09-03                                              NaN   \n2021-09-04                                              NaN   \n2021-09-05                                             56.0   \n2021-09-06                                              NaN   \n2021-09-07                                              NaN   \n2021-09-08                                              NaN   \n2021-09-09                                              NaN   \n2021-09-10                                              NaN   \n2021-09-11                                              NaN   \n2021-09-12                                              NaN   \n2021-09-13                                              NaN   \n2021-09-14                                              NaN   \n2021-09-15                                              NaN   \n2021-09-16                                              NaN   \n2021-09-17                                              NaN   \n2021-09-18                                              NaN   \n2021-09-19                                              NaN   \n2021-09-20                                              NaN   \n2021-09-21                                              NaN   \n2021-09-22                                              NaN   \n2021-09-23                                              NaN   \n2021-09-24                                              NaN   \n2021-09-25                                              NaN   \n2021-09-26                                              NaN   \n2021-09-27                                              NaN   \n2021-09-28                                              NaN   \n2021-09-29                                              NaN   \n2021-09-30                                              NaN   \n\nlocation.formattedAddress  Lindula, Nuwara Eliya, Sri Lanka  \\\ndatetext                                                      \n2021-08-31                                              NaN   \n2021-09-02                                              NaN   \n2021-09-03                                              NaN   \n2021-09-04                                              NaN   \n2021-09-05                                              NaN   \n2021-09-06                                              NaN   \n2021-09-07                                              NaN   \n2021-09-08                                              NaN   \n2021-09-09                                              NaN   \n2021-09-10                                              NaN   \n2021-09-11                                              NaN   \n2021-09-12                                              NaN   \n2021-09-13                                              NaN   \n2021-09-14                                              NaN   \n2021-09-15                                             14.0   \n2021-09-16                                              NaN   \n2021-09-17                                              NaN   \n2021-09-18                                              NaN   \n2021-09-19                                              NaN   \n2021-09-20                                              NaN   \n2021-09-21                                              NaN   \n2021-09-22                                              NaN   \n2021-09-23                                              NaN   \n2021-09-24                                              NaN   \n2021-09-25                                              NaN   \n2021-09-26                                              NaN   \n2021-09-27                                              NaN   \n2021-09-28                                              NaN   \n2021-09-29                                              NaN   \n2021-09-30                                              NaN   \n\nlocation.formattedAddress  Maskeliya, Nuwara Eliya, Sri Lanka  \\\ndatetext                                                        \n2021-08-31                                                NaN   \n2021-09-02                                                NaN   \n2021-09-03                                                NaN   \n2021-09-04                                                NaN   \n2021-09-05                                                NaN   \n2021-09-06                                                NaN   \n2021-09-07                                                NaN   \n2021-09-08                                                NaN   \n2021-09-09                                                9.0   \n2021-09-10                                                NaN   \n2021-09-11                                                NaN   \n2021-09-12                                                NaN   \n2021-09-13                                                NaN   \n2021-09-14                                                NaN   \n2021-09-15                                                NaN   \n2021-09-16                                                NaN   \n2021-09-17                                                NaN   \n2021-09-18                                                NaN   \n2021-09-19                                                NaN   \n2021-09-20                                                NaN   \n2021-09-21                                                NaN   \n2021-09-22                                                NaN   \n2021-09-23                                                NaN   \n2021-09-24                                                NaN   \n2021-09-25                                                NaN   \n2021-09-26                                                NaN   \n2021-09-27                                                NaN   \n2021-09-28                                                NaN   \n2021-09-29                                                NaN   \n2021-09-30                                                NaN   \n\nlocation.formattedAddress  Nuwara Eliya, Nuwara Eliya, Sri Lanka  \\\ndatetext                                                           \n2021-08-31                                                  20.0   \n2021-09-02                                                   NaN   \n2021-09-03                                                   NaN   \n2021-09-04                                                   NaN   \n2021-09-05                                                  14.0   \n2021-09-06                                                   NaN   \n2021-09-07                                                   NaN   \n2021-09-08                                                  21.0   \n2021-09-09                                                  11.0   \n2021-09-10                                                  13.0   \n2021-09-11                                                  18.0   \n2021-09-12                                                   NaN   \n2021-09-13                                                   NaN   \n2021-09-14                                                   NaN   \n2021-09-15                                                  13.0   \n2021-09-16                                                   NaN   \n2021-09-17                                                   NaN   \n2021-09-18                                                   NaN   \n2021-09-19                                                   NaN   \n2021-09-20                                                   NaN   \n2021-09-21                                                   NaN   \n2021-09-22                                                   NaN   \n2021-09-23                                                   NaN   \n2021-09-24                                                   NaN   \n2021-09-25                                                   NaN   \n2021-09-26                                                   NaN   \n2021-09-27                                                   NaN   \n2021-09-28                                                  10.0   \n2021-09-29                                                  10.0   \n2021-09-30                                                   NaN   \n\nlocation.formattedAddress  Nuwara Eliya, Sri Lanka  \\\ndatetext                                             \n2021-08-31                                    15.0   \n2021-09-02                                   113.0   \n2021-09-03                                    39.0   \n2021-09-04                                    97.0   \n2021-09-05                                    15.0   \n2021-09-06                                    75.0   \n2021-09-07                                    24.0   \n2021-09-08                                    51.0   \n2021-09-09                                    11.0   \n2021-09-10                                    29.0   \n2021-09-11                                    16.0   \n2021-09-12                                    25.0   \n2021-09-13                                    16.0   \n2021-09-14                                    26.0   \n2021-09-15                                     7.0   \n2021-09-16                                    28.0   \n2021-09-17                                    32.0   \n2021-09-18                                    23.0   \n2021-09-19                                    31.0   \n2021-09-20                                    30.0   \n2021-09-21                                    20.0   \n2021-09-22                                    16.0   \n2021-09-23                                     9.0   \n2021-09-24                                    11.0   \n2021-09-25                                    21.0   \n2021-09-26                                    17.0   \n2021-09-27                                    20.0   \n2021-09-28                                    16.0   \n2021-09-29                                    16.0   \n2021-09-30                                     4.0   \n\nlocation.formattedAddress  Walapane, Nuwara Eliya, Sri Lanka  \ndatetext                                                      \n2021-08-31                                               NaN  \n2021-09-02                                               NaN  \n2021-09-03                                               NaN  \n2021-09-04                                               NaN  \n2021-09-05                                               NaN  \n2021-09-06                                               NaN  \n2021-09-07                                               NaN  \n2021-09-08                                               NaN  \n2021-09-09                                               NaN  \n2021-09-10                                               NaN  \n2021-09-11                                               NaN  \n2021-09-12                                               NaN  \n2021-09-13                                               NaN  \n2021-09-14                                               NaN  \n2021-09-15                                               NaN  \n2021-09-16                                               NaN  \n2021-09-17                                               NaN  \n2021-09-18                                              17.0  \n2021-09-19                                               NaN  \n2021-09-20                                               NaN  \n2021-09-21                                               NaN  \n2021-09-22                                               NaN  \n2021-09-23                                               NaN  \n2021-09-24                                               NaN  \n2021-09-25                                               NaN  \n2021-09-26                                               NaN  \n2021-09-27                                               NaN  \n2021-09-28                                               NaN  \n2021-09-29                                               NaN  \n2021-09-30                                               NaN  "
         },
         "metadata": {},
         "output_type": "display_data"
        }
       ]
      }
     },
     "3af6884b49c847e5885cb6d425946790": {
      "model_module": "@jupyter-widgets/base",
      "model_module_version": "1.2.0",
      "model_name": "LayoutModel",
      "state": {
       "_model_module": "@jupyter-widgets/base",
       "_model_module_version": "1.2.0",
       "_model_name": "LayoutModel",
       "_view_count": null,
       "_view_module": "@jupyter-widgets/base",
       "_view_module_version": "1.2.0",
       "_view_name": "LayoutView",
       "align_content": null,
       "align_items": null,
       "align_self": null,
       "border": null,
       "bottom": null,
       "display": null,
       "flex": null,
       "flex_flow": null,
       "grid_area": null,
       "grid_auto_columns": null,
       "grid_auto_flow": null,
       "grid_auto_rows": null,
       "grid_column": null,
       "grid_gap": null,
       "grid_row": null,
       "grid_template_areas": null,
       "grid_template_columns": null,
       "grid_template_rows": null,
       "height": null,
       "justify_content": null,
       "justify_items": null,
       "left": null,
       "margin": null,
       "max_height": null,
       "max_width": null,
       "min_height": null,
       "min_width": null,
       "object_fit": null,
       "object_position": null,
       "order": null,
       "overflow": null,
       "overflow_x": null,
       "overflow_y": null,
       "padding": null,
       "right": null,
       "top": null,
       "visibility": null,
       "width": null
      }
     },
     "568c502088d74682be33696f489f4170": {
      "model_module": "@jupyter-widgets/controls",
      "model_module_version": "1.5.0",
      "model_name": "VBoxModel",
      "state": {
       "_dom_classes": [
        "widget-interact"
       ],
       "_model_module": "@jupyter-widgets/controls",
       "_model_module_version": "1.5.0",
       "_model_name": "VBoxModel",
       "_view_count": null,
       "_view_module": "@jupyter-widgets/controls",
       "_view_module_version": "1.5.0",
       "_view_name": "VBoxView",
       "box_style": "",
       "children": [
        "IPY_MODEL_174414bc98e54460bc5bf83a4e69072a",
        "IPY_MODEL_7ad47ab4151e4bf0a68e4b610aaaeb14"
       ],
       "layout": "IPY_MODEL_0797f51b6c1c41d9822605f6f3d70198"
      }
     },
     "7ad47ab4151e4bf0a68e4b610aaaeb14": {
      "model_module": "@jupyter-widgets/output",
      "model_module_version": "1.0.0",
      "model_name": "OutputModel",
      "state": {
       "_dom_classes": [],
       "_model_module": "@jupyter-widgets/output",
       "_model_module_version": "1.0.0",
       "_model_name": "OutputModel",
       "_view_count": null,
       "_view_module": "@jupyter-widgets/output",
       "_view_module_version": "1.0.0",
       "_view_name": "OutputView",
       "layout": "IPY_MODEL_8c672248a94643df899926b25d441f7f",
       "msg_id": "",
       "outputs": [
        {
         "data": {
          "image/png": "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\n",
          "text/plain": "<Figure size 432x288 with 1 Axes>"
         },
         "metadata": {
          "needs_background": "light"
         },
         "output_type": "display_data"
        }
       ]
      }
     },
     "87f3247c1e424bcba84b0807c73a8082": {
      "model_module": "@jupyter-widgets/controls",
      "model_module_version": "1.5.0",
      "model_name": "DropdownModel",
      "state": {
       "_dom_classes": [],
       "_model_module": "@jupyter-widgets/controls",
       "_model_module_version": "1.5.0",
       "_model_name": "DropdownModel",
       "_options_labels": [
        "Nuwara Eliya, Sri Lanka",
        "Badulla, Sri Lanka",
        "Kurunegala, Sri Lanka"
       ],
       "_view_count": null,
       "_view_module": "@jupyter-widgets/controls",
       "_view_module_version": "1.5.0",
       "_view_name": "DropdownView",
       "description": "District:",
       "description_tooltip": null,
       "disabled": false,
       "index": 0,
       "layout": "IPY_MODEL_3af6884b49c847e5885cb6d425946790",
       "style": "IPY_MODEL_b599bcb0ea494af2b8a8d831074e5777"
      }
     },
     "8c672248a94643df899926b25d441f7f": {
      "model_module": "@jupyter-widgets/base",
      "model_module_version": "1.2.0",
      "model_name": "LayoutModel",
      "state": {
       "_model_module": "@jupyter-widgets/base",
       "_model_module_version": "1.2.0",
       "_model_name": "LayoutModel",
       "_view_count": null,
       "_view_module": "@jupyter-widgets/base",
       "_view_module_version": "1.2.0",
       "_view_name": "LayoutView",
       "align_content": null,
       "align_items": null,
       "align_self": null,
       "border": null,
       "bottom": null,
       "display": null,
       "flex": null,
       "flex_flow": null,
       "grid_area": null,
       "grid_auto_columns": null,
       "grid_auto_flow": null,
       "grid_auto_rows": null,
       "grid_column": null,
       "grid_gap": null,
       "grid_row": null,
       "grid_template_areas": null,
       "grid_template_columns": null,
       "grid_template_rows": null,
       "height": null,
       "justify_content": null,
       "justify_items": null,
       "left": null,
       "margin": null,
       "max_height": null,
       "max_width": null,
       "min_height": null,
       "min_width": null,
       "object_fit": null,
       "object_position": null,
       "order": null,
       "overflow": null,
       "overflow_x": null,
       "overflow_y": null,
       "padding": null,
       "right": null,
       "top": null,
       "visibility": null,
       "width": null
      }
     },
     "a5a3b957311e4051b3c07474a9014eb4": {
      "model_module": "@jupyter-widgets/base",
      "model_module_version": "1.2.0",
      "model_name": "LayoutModel",
      "state": {
       "_model_module": "@jupyter-widgets/base",
       "_model_module_version": "1.2.0",
       "_model_name": "LayoutModel",
       "_view_count": null,
       "_view_module": "@jupyter-widgets/base",
       "_view_module_version": "1.2.0",
       "_view_name": "LayoutView",
       "align_content": null,
       "align_items": null,
       "align_self": null,
       "border": null,
       "bottom": null,
       "display": null,
       "flex": null,
       "flex_flow": null,
       "grid_area": null,
       "grid_auto_columns": null,
       "grid_auto_flow": null,
       "grid_auto_rows": null,
       "grid_column": null,
       "grid_gap": null,
       "grid_row": null,
       "grid_template_areas": null,
       "grid_template_columns": null,
       "grid_template_rows": null,
       "height": null,
       "justify_content": null,
       "justify_items": null,
       "left": null,
       "margin": null,
       "max_height": null,
       "max_width": null,
       "min_height": null,
       "min_width": null,
       "object_fit": null,
       "object_position": null,
       "order": null,
       "overflow": null,
       "overflow_x": null,
       "overflow_y": null,
       "padding": null,
       "right": null,
       "top": null,
       "visibility": null,
       "width": null
      }
     },
     "ad879eac7b4a4b31b7cedbda75e00305": {
      "model_module": "@jupyter-widgets/controls",
      "model_module_version": "1.5.0",
      "model_name": "DescriptionStyleModel",
      "state": {
       "_model_module": "@jupyter-widgets/controls",
       "_model_module_version": "1.5.0",
       "_model_name": "DescriptionStyleModel",
       "_view_count": null,
       "_view_module": "@jupyter-widgets/base",
       "_view_module_version": "1.2.0",
       "_view_name": "StyleView",
       "description_width": ""
      }
     },
     "b599bcb0ea494af2b8a8d831074e5777": {
      "model_module": "@jupyter-widgets/controls",
      "model_module_version": "1.5.0",
      "model_name": "DescriptionStyleModel",
      "state": {
       "_model_module": "@jupyter-widgets/controls",
       "_model_module_version": "1.5.0",
       "_model_name": "DescriptionStyleModel",
       "_view_count": null,
       "_view_module": "@jupyter-widgets/base",
       "_view_module_version": "1.2.0",
       "_view_name": "StyleView",
       "description_width": ""
      }
     },
     "ce7ee6414ec64b09adaf471aecd392e9": {
      "model_module": "@jupyter-widgets/controls",
      "model_module_version": "1.5.0",
      "model_name": "DropdownModel",
      "state": {
       "_dom_classes": [],
       "_model_module": "@jupyter-widgets/controls",
       "_model_module_version": "1.5.0",
       "_model_name": "DropdownModel",
       "_options_labels": [
        "Nuwara Eliya, Sri Lanka",
        "Badulla, Sri Lanka",
        "Kurunegala, Sri Lanka"
       ],
       "_view_count": null,
       "_view_module": "@jupyter-widgets/controls",
       "_view_module_version": "1.5.0",
       "_view_name": "DropdownView",
       "description": "x",
       "description_tooltip": null,
       "disabled": false,
       "index": 0,
       "layout": "IPY_MODEL_dd38395f0f68401190b9042d52f6836f",
       "style": "IPY_MODEL_e6c5b78394f3421cb3ea085c63b8049d"
      }
     },
     "d10e89af6fad41e5842e169bfc1beace": {
      "model_module": "@jupyter-widgets/base",
      "model_module_version": "1.2.0",
      "model_name": "LayoutModel",
      "state": {
       "_model_module": "@jupyter-widgets/base",
       "_model_module_version": "1.2.0",
       "_model_name": "LayoutModel",
       "_view_count": null,
       "_view_module": "@jupyter-widgets/base",
       "_view_module_version": "1.2.0",
       "_view_name": "LayoutView",
       "align_content": null,
       "align_items": null,
       "align_self": null,
       "border": null,
       "bottom": null,
       "display": null,
       "flex": null,
       "flex_flow": null,
       "grid_area": null,
       "grid_auto_columns": null,
       "grid_auto_flow": null,
       "grid_auto_rows": null,
       "grid_column": null,
       "grid_gap": null,
       "grid_row": null,
       "grid_template_areas": null,
       "grid_template_columns": null,
       "grid_template_rows": null,
       "height": null,
       "justify_content": null,
       "justify_items": null,
       "left": null,
       "margin": null,
       "max_height": null,
       "max_width": null,
       "min_height": null,
       "min_width": null,
       "object_fit": null,
       "object_position": null,
       "order": null,
       "overflow": null,
       "overflow_x": null,
       "overflow_y": null,
       "padding": null,
       "right": null,
       "top": null,
       "visibility": null,
       "width": null
      }
     },
     "dd38395f0f68401190b9042d52f6836f": {
      "model_module": "@jupyter-widgets/base",
      "model_module_version": "1.2.0",
      "model_name": "LayoutModel",
      "state": {
       "_model_module": "@jupyter-widgets/base",
       "_model_module_version": "1.2.0",
       "_model_name": "LayoutModel",
       "_view_count": null,
       "_view_module": "@jupyter-widgets/base",
       "_view_module_version": "1.2.0",
       "_view_name": "LayoutView",
       "align_content": null,
       "align_items": null,
       "align_self": null,
       "border": null,
       "bottom": null,
       "display": null,
       "flex": null,
       "flex_flow": null,
       "grid_area": null,
       "grid_auto_columns": null,
       "grid_auto_flow": null,
       "grid_auto_rows": null,
       "grid_column": null,
       "grid_gap": null,
       "grid_row": null,
       "grid_template_areas": null,
       "grid_template_columns": null,
       "grid_template_rows": null,
       "height": null,
       "justify_content": null,
       "justify_items": null,
       "left": null,
       "margin": null,
       "max_height": null,
       "max_width": null,
       "min_height": null,
       "min_width": null,
       "object_fit": null,
       "object_position": null,
       "order": null,
       "overflow": null,
       "overflow_x": null,
       "overflow_y": null,
       "padding": null,
       "right": null,
       "top": null,
       "visibility": null,
       "width": null
      }
     },
     "e6c5b78394f3421cb3ea085c63b8049d": {
      "model_module": "@jupyter-widgets/controls",
      "model_module_version": "1.5.0",
      "model_name": "DescriptionStyleModel",
      "state": {
       "_model_module": "@jupyter-widgets/controls",
       "_model_module_version": "1.5.0",
       "_model_name": "DescriptionStyleModel",
       "_view_count": null,
       "_view_module": "@jupyter-widgets/base",
       "_view_module_version": "1.2.0",
       "_view_name": "StyleView",
       "description_width": ""
      }
     },
     "ec15a82a8da84a3780cd7ff2fd97dc72": {
      "model_module": "@jupyter-widgets/controls",
      "model_module_version": "1.5.0",
      "model_name": "VBoxModel",
      "state": {
       "_dom_classes": [
        "widget-interact"
       ],
       "_model_module": "@jupyter-widgets/controls",
       "_model_module_version": "1.5.0",
       "_model_name": "VBoxModel",
       "_view_count": null,
       "_view_module": "@jupyter-widgets/controls",
       "_view_module_version": "1.5.0",
       "_view_name": "VBoxView",
       "box_style": "",
       "children": [
        "IPY_MODEL_ce7ee6414ec64b09adaf471aecd392e9",
        "IPY_MODEL_2994a32a616a4cfe8ea393dd9a82c09d"
       ],
       "layout": "IPY_MODEL_0d717e05c78e4fb3aa0d4cf43f3f345e"
      }
     }
    },
    "version_major": 2,
    "version_minor": 0
   }
  }
 },
 "nbformat": 4,
 "nbformat_minor": 4
}