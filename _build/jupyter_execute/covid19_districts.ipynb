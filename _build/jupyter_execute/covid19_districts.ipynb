{
 "cells": [
  {
   "cell_type": "markdown",
   "metadata": {},
   "source": [
    "# District Wise Infected Count\n",
    "\n",
    "Click the {fa}`rocket` --> {guilabel}`Live Code` button above on this page, and run the code below.\n",
    "In the frist attempt it might take some time to Binder to be \"ready\". If it's not repsonded click the button again."
   ]
  },
  {
   "cell_type": "code",
   "execution_count": 1,
   "metadata": {
    "interactive": true,
    "tags": [
     "thebe-init"
    ]
   },
   "outputs": [
    {
     "name": "stdout",
     "output_type": "stream",
     "text": [
      "Requirement already satisfied: pandas in d:\\github\\genostechbooks\\venv\\lib\\site-packages (1.3.4)\n",
      "Requirement already satisfied: python-dateutil>=2.7.3 in d:\\github\\genostechbooks\\venv\\lib\\site-packages (from pandas) (2.8.2)\n",
      "Requirement already satisfied: pytz>=2017.3 in d:\\github\\genostechbooks\\venv\\lib\\site-packages (from pandas) (2021.3)\n",
      "Requirement already satisfied: numpy>=1.17.3 in d:\\github\\genostechbooks\\venv\\lib\\site-packages (from pandas) (1.21.3)\n",
      "Requirement already satisfied: six>=1.5 in d:\\github\\genostechbooks\\venv\\lib\\site-packages (from python-dateutil>=2.7.3->pandas) (1.16.0)\n"
     ]
    },
    {
     "name": "stderr",
     "output_type": "stream",
     "text": [
      "WARNING: You are using pip version 21.2.3; however, version 21.3.1 is available.\n",
      "You should consider upgrading via the 'D:\\Github\\GenosTechBooks\\venv\\Scripts\\python.exe -m pip install --upgrade pip' command.\n"
     ]
    },
    {
     "name": "stdout",
     "output_type": "stream",
     "text": [
      "Requirement already satisfied: matplotlib in d:\\github\\genostechbooks\\venv\\lib\\site-packages (3.4.3)\n",
      "Requirement already satisfied: numpy>=1.16 in d:\\github\\genostechbooks\\venv\\lib\\site-packages (from matplotlib) (1.21.3)\n",
      "Requirement already satisfied: pillow>=6.2.0 in d:\\github\\genostechbooks\\venv\\lib\\site-packages (from matplotlib) (8.4.0)\n",
      "Requirement already satisfied: pyparsing>=2.2.1 in d:\\github\\genostechbooks\\venv\\lib\\site-packages (from matplotlib) (3.0.0)\n",
      "Requirement already satisfied: python-dateutil>=2.7 in d:\\github\\genostechbooks\\venv\\lib\\site-packages (from matplotlib) (2.8.2)\n",
      "Requirement already satisfied: kiwisolver>=1.0.1 in d:\\github\\genostechbooks\\venv\\lib\\site-packages (from matplotlib) (1.3.2)\n",
      "Requirement already satisfied: cycler>=0.10 in d:\\github\\genostechbooks\\venv\\lib\\site-packages (from matplotlib) (0.10.0)\n",
      "Requirement already satisfied: six in d:\\github\\genostechbooks\\venv\\lib\\site-packages (from cycler>=0.10->matplotlib) (1.16.0)\n"
     ]
    },
    {
     "name": "stderr",
     "output_type": "stream",
     "text": [
      "WARNING: You are using pip version 21.2.3; however, version 21.3.1 is available.\n",
      "You should consider upgrading via the 'D:\\Github\\GenosTechBooks\\venv\\Scripts\\python.exe -m pip install --upgrade pip' command.\n"
     ]
    },
    {
     "name": "stdout",
     "output_type": "stream",
     "text": [
      "Requirement already satisfied: seaborn in d:\\github\\genostechbooks\\venv\\lib\\site-packages (0.11.2)\n",
      "Requirement already satisfied: matplotlib>=2.2 in d:\\github\\genostechbooks\\venv\\lib\\site-packages (from seaborn) (3.4.3)\n",
      "Requirement already satisfied: pandas>=0.23 in d:\\github\\genostechbooks\\venv\\lib\\site-packages (from seaborn) (1.3.4)\n",
      "Requirement already satisfied: numpy>=1.15 in d:\\github\\genostechbooks\\venv\\lib\\site-packages (from seaborn) (1.21.3)\n",
      "Requirement already satisfied: scipy>=1.0 in d:\\github\\genostechbooks\\venv\\lib\\site-packages (from seaborn) (1.7.1)\n",
      "Requirement already satisfied: kiwisolver>=1.0.1 in d:\\github\\genostechbooks\\venv\\lib\\site-packages (from matplotlib>=2.2->seaborn) (1.3.2)\n",
      "Requirement already satisfied: cycler>=0.10 in d:\\github\\genostechbooks\\venv\\lib\\site-packages (from matplotlib>=2.2->seaborn) (0.10.0)\n",
      "Requirement already satisfied: pillow>=6.2.0 in d:\\github\\genostechbooks\\venv\\lib\\site-packages (from matplotlib>=2.2->seaborn) (8.4.0)\n",
      "Requirement already satisfied: pyparsing>=2.2.1 in d:\\github\\genostechbooks\\venv\\lib\\site-packages (from matplotlib>=2.2->seaborn) (3.0.0)\n",
      "Requirement already satisfied: python-dateutil>=2.7 in d:\\github\\genostechbooks\\venv\\lib\\site-packages (from matplotlib>=2.2->seaborn) (2.8.2)\n",
      "Requirement already satisfied: six in d:\\github\\genostechbooks\\venv\\lib\\site-packages (from cycler>=0.10->matplotlib>=2.2->seaborn) (1.16.0)\n",
      "Requirement already satisfied: pytz>=2017.3 in d:\\github\\genostechbooks\\venv\\lib\\site-packages (from pandas>=0.23->seaborn) (2021.3)\n"
     ]
    },
    {
     "name": "stderr",
     "output_type": "stream",
     "text": [
      "WARNING: You are using pip version 21.2.3; however, version 21.3.1 is available.\n",
      "You should consider upgrading via the 'D:\\Github\\GenosTechBooks\\venv\\Scripts\\python.exe -m pip install --upgrade pip' command.\n"
     ]
    },
    {
     "name": "stdout",
     "output_type": "stream",
     "text": [
      "Requirement already satisfied: ipywidgets in d:\\github\\genostechbooks\\venv\\lib\\site-packages (7.6.5)\n",
      "Requirement already satisfied: ipykernel>=4.5.1 in d:\\github\\genostechbooks\\venv\\lib\\site-packages (from ipywidgets) (6.4.2)\n",
      "Requirement already satisfied: nbformat>=4.2.0 in d:\\github\\genostechbooks\\venv\\lib\\site-packages (from ipywidgets) (5.1.3)\n",
      "Requirement already satisfied: traitlets>=4.3.1 in d:\\github\\genostechbooks\\venv\\lib\\site-packages (from ipywidgets) (5.1.0)\n",
      "Requirement already satisfied: ipython-genutils~=0.2.0 in d:\\github\\genostechbooks\\venv\\lib\\site-packages (from ipywidgets) (0.2.0)\n",
      "Requirement already satisfied: ipython>=4.0.0 in d:\\github\\genostechbooks\\venv\\lib\\site-packages (from ipywidgets) (7.28.0)\n",
      "Requirement already satisfied: widgetsnbextension~=3.5.0 in d:\\github\\genostechbooks\\venv\\lib\\site-packages (from ipywidgets) (3.5.1)\n",
      "Requirement already satisfied: jupyterlab-widgets>=1.0.0 in d:\\github\\genostechbooks\\venv\\lib\\site-packages (from ipywidgets) (1.0.2)\n",
      "Requirement already satisfied: debugpy<2.0,>=1.0.0 in d:\\github\\genostechbooks\\venv\\lib\\site-packages (from ipykernel>=4.5.1->ipywidgets) (1.5.1)\n",
      "Requirement already satisfied: matplotlib-inline<0.2.0,>=0.1.0 in d:\\github\\genostechbooks\\venv\\lib\\site-packages (from ipykernel>=4.5.1->ipywidgets) (0.1.3)\n",
      "Requirement already satisfied: tornado<7.0,>=4.2 in d:\\github\\genostechbooks\\venv\\lib\\site-packages (from ipykernel>=4.5.1->ipywidgets) (6.1)\n",
      "Requirement already satisfied: jupyter-client<8.0 in d:\\github\\genostechbooks\\venv\\lib\\site-packages (from ipykernel>=4.5.1->ipywidgets) (6.1.12)\n",
      "Requirement already satisfied: decorator in d:\\github\\genostechbooks\\venv\\lib\\site-packages (from ipython>=4.0.0->ipywidgets) (5.1.0)\n",
      "Requirement already satisfied: setuptools>=18.5 in d:\\github\\genostechbooks\\venv\\lib\\site-packages (from ipython>=4.0.0->ipywidgets) (57.4.0)\n",
      "Requirement already satisfied: colorama in d:\\github\\genostechbooks\\venv\\lib\\site-packages (from ipython>=4.0.0->ipywidgets) (0.4.4)\n",
      "Requirement already satisfied: backcall in d:\\github\\genostechbooks\\venv\\lib\\site-packages (from ipython>=4.0.0->ipywidgets) (0.2.0)\n",
      "Requirement already satisfied: jedi>=0.16 in d:\\github\\genostechbooks\\venv\\lib\\site-packages (from ipython>=4.0.0->ipywidgets) (0.18.0)\n",
      "Requirement already satisfied: prompt-toolkit!=3.0.0,!=3.0.1,<3.1.0,>=2.0.0 in d:\\github\\genostechbooks\\venv\\lib\\site-packages (from ipython>=4.0.0->ipywidgets) (3.0.21)\n",
      "Requirement already satisfied: pygments in d:\\github\\genostechbooks\\venv\\lib\\site-packages (from ipython>=4.0.0->ipywidgets) (2.10.0)\n",
      "Requirement already satisfied: pickleshare in d:\\github\\genostechbooks\\venv\\lib\\site-packages (from ipython>=4.0.0->ipywidgets) (0.7.5)\n",
      "Requirement already satisfied: parso<0.9.0,>=0.8.0 in d:\\github\\genostechbooks\\venv\\lib\\site-packages (from jedi>=0.16->ipython>=4.0.0->ipywidgets) (0.8.2)\n",
      "Requirement already satisfied: pyzmq>=13 in d:\\github\\genostechbooks\\venv\\lib\\site-packages (from jupyter-client<8.0->ipykernel>=4.5.1->ipywidgets) (22.3.0)\n",
      "Requirement already satisfied: jupyter-core>=4.6.0 in d:\\github\\genostechbooks\\venv\\lib\\site-packages (from jupyter-client<8.0->ipykernel>=4.5.1->ipywidgets) (4.8.1)\n",
      "Requirement already satisfied: python-dateutil>=2.1 in d:\\github\\genostechbooks\\venv\\lib\\site-packages (from jupyter-client<8.0->ipykernel>=4.5.1->ipywidgets) (2.8.2)\n",
      "Requirement already satisfied: pywin32>=1.0 in d:\\github\\genostechbooks\\venv\\lib\\site-packages (from jupyter-core>=4.6.0->jupyter-client<8.0->ipykernel>=4.5.1->ipywidgets) (302)\n",
      "Requirement already satisfied: jsonschema!=2.5.0,>=2.4 in d:\\github\\genostechbooks\\venv\\lib\\site-packages (from nbformat>=4.2.0->ipywidgets) (3.2.0)\n",
      "Requirement already satisfied: six>=1.11.0 in d:\\github\\genostechbooks\\venv\\lib\\site-packages (from jsonschema!=2.5.0,>=2.4->nbformat>=4.2.0->ipywidgets) (1.16.0)\n",
      "Requirement already satisfied: pyrsistent>=0.14.0 in d:\\github\\genostechbooks\\venv\\lib\\site-packages (from jsonschema!=2.5.0,>=2.4->nbformat>=4.2.0->ipywidgets) (0.18.0)\n",
      "Requirement already satisfied: attrs>=17.4.0 in d:\\github\\genostechbooks\\venv\\lib\\site-packages (from jsonschema!=2.5.0,>=2.4->nbformat>=4.2.0->ipywidgets) (21.2.0)\n",
      "Requirement already satisfied: wcwidth in d:\\github\\genostechbooks\\venv\\lib\\site-packages (from prompt-toolkit!=3.0.0,!=3.0.1,<3.1.0,>=2.0.0->ipython>=4.0.0->ipywidgets) (0.2.5)\n",
      "Requirement already satisfied: notebook>=4.4.1 in d:\\github\\genostechbooks\\venv\\lib\\site-packages (from widgetsnbextension~=3.5.0->ipywidgets) (6.4.5)\n",
      "Requirement already satisfied: prometheus-client in d:\\github\\genostechbooks\\venv\\lib\\site-packages (from notebook>=4.4.1->widgetsnbextension~=3.5.0->ipywidgets) (0.11.0)\n",
      "Requirement already satisfied: argon2-cffi in d:\\github\\genostechbooks\\venv\\lib\\site-packages (from notebook>=4.4.1->widgetsnbextension~=3.5.0->ipywidgets) (21.1.0)\n",
      "Requirement already satisfied: nbconvert in d:\\github\\genostechbooks\\venv\\lib\\site-packages (from notebook>=4.4.1->widgetsnbextension~=3.5.0->ipywidgets) (6.2.0)\n",
      "Requirement already satisfied: terminado>=0.8.3 in d:\\github\\genostechbooks\\venv\\lib\\site-packages (from notebook>=4.4.1->widgetsnbextension~=3.5.0->ipywidgets) (0.12.1)\n",
      "Requirement already satisfied: Send2Trash>=1.5.0 in d:\\github\\genostechbooks\\venv\\lib\\site-packages (from notebook>=4.4.1->widgetsnbextension~=3.5.0->ipywidgets) (1.8.0)\n",
      "Requirement already satisfied: jinja2 in d:\\github\\genostechbooks\\venv\\lib\\site-packages (from notebook>=4.4.1->widgetsnbextension~=3.5.0->ipywidgets) (3.0.2)\n",
      "Requirement already satisfied: pywinpty>=1.1.0 in d:\\github\\genostechbooks\\venv\\lib\\site-packages (from terminado>=0.8.3->notebook>=4.4.1->widgetsnbextension~=3.5.0->ipywidgets) (1.1.4)\n",
      "Requirement already satisfied: cffi>=1.0.0 in d:\\github\\genostechbooks\\venv\\lib\\site-packages (from argon2-cffi->notebook>=4.4.1->widgetsnbextension~=3.5.0->ipywidgets) (1.15.0)\n",
      "Requirement already satisfied: pycparser in d:\\github\\genostechbooks\\venv\\lib\\site-packages (from cffi>=1.0.0->argon2-cffi->notebook>=4.4.1->widgetsnbextension~=3.5.0->ipywidgets) (2.20)\n",
      "Requirement already satisfied: MarkupSafe>=2.0 in d:\\github\\genostechbooks\\venv\\lib\\site-packages (from jinja2->notebook>=4.4.1->widgetsnbextension~=3.5.0->ipywidgets) (2.0.1)\n",
      "Requirement already satisfied: mistune<2,>=0.8.1 in d:\\github\\genostechbooks\\venv\\lib\\site-packages (from nbconvert->notebook>=4.4.1->widgetsnbextension~=3.5.0->ipywidgets) (0.8.4)\n",
      "Requirement already satisfied: pandocfilters>=1.4.1 in d:\\github\\genostechbooks\\venv\\lib\\site-packages (from nbconvert->notebook>=4.4.1->widgetsnbextension~=3.5.0->ipywidgets) (1.5.0)\n",
      "Requirement already satisfied: bleach in d:\\github\\genostechbooks\\venv\\lib\\site-packages (from nbconvert->notebook>=4.4.1->widgetsnbextension~=3.5.0->ipywidgets) (4.1.0)\n",
      "Requirement already satisfied: testpath in d:\\github\\genostechbooks\\venv\\lib\\site-packages (from nbconvert->notebook>=4.4.1->widgetsnbextension~=3.5.0->ipywidgets) (0.5.0)\n",
      "Requirement already satisfied: defusedxml in d:\\github\\genostechbooks\\venv\\lib\\site-packages (from nbconvert->notebook>=4.4.1->widgetsnbextension~=3.5.0->ipywidgets) (0.7.1)\n",
      "Requirement already satisfied: entrypoints>=0.2.2 in d:\\github\\genostechbooks\\venv\\lib\\site-packages (from nbconvert->notebook>=4.4.1->widgetsnbextension~=3.5.0->ipywidgets) (0.3)\n",
      "Requirement already satisfied: nbclient<0.6.0,>=0.5.0 in d:\\github\\genostechbooks\\venv\\lib\\site-packages (from nbconvert->notebook>=4.4.1->widgetsnbextension~=3.5.0->ipywidgets) (0.5.4)\n",
      "Requirement already satisfied: jupyterlab-pygments in d:\\github\\genostechbooks\\venv\\lib\\site-packages (from nbconvert->notebook>=4.4.1->widgetsnbextension~=3.5.0->ipywidgets) (0.1.2)\n",
      "Requirement already satisfied: nest-asyncio in d:\\github\\genostechbooks\\venv\\lib\\site-packages (from nbclient<0.6.0,>=0.5.0->nbconvert->notebook>=4.4.1->widgetsnbextension~=3.5.0->ipywidgets) (1.5.1)\n",
      "Requirement already satisfied: packaging in d:\\github\\genostechbooks\\venv\\lib\\site-packages (from bleach->nbconvert->notebook>=4.4.1->widgetsnbextension~=3.5.0->ipywidgets) (21.0)\n",
      "Requirement already satisfied: webencodings in d:\\github\\genostechbooks\\venv\\lib\\site-packages (from bleach->nbconvert->notebook>=4.4.1->widgetsnbextension~=3.5.0->ipywidgets) (0.5.1)\n",
      "Requirement already satisfied: pyparsing>=2.0.2 in d:\\github\\genostechbooks\\venv\\lib\\site-packages (from packaging->bleach->nbconvert->notebook>=4.4.1->widgetsnbextension~=3.5.0->ipywidgets) (3.0.0)\n"
     ]
    },
    {
     "name": "stderr",
     "output_type": "stream",
     "text": [
      "WARNING: You are using pip version 21.2.3; however, version 21.3.1 is available.\n",
      "You should consider upgrading via the 'D:\\Github\\GenosTechBooks\\venv\\Scripts\\python.exe -m pip install --upgrade pip' command.\n"
     ]
    }
   ],
   "source": [
    "!pip install pandas\n",
    "!pip install matplotlib\n",
    "!pip install seaborn\n",
    "!pip install ipywidgets"
   ]
  },
  {
   "cell_type": "code",
   "execution_count": 2,
   "metadata": {
    "interactive": true,
    "tags": [
     "thebe-init"
    ]
   },
   "outputs": [],
   "source": [
    "from __future__ import print_function\n",
    "from ipywidgets import interact, interactive, fixed, interact_manual\n",
    "import ipywidgets as widgets\n",
    "import requests  # Import the requests library\n",
    "import pandas as pd\n",
    "import matplotlib.pyplot as plt\n",
    "import matplotlib as mpl\n",
    "import seaborn as sns"
   ]
  },
  {
   "cell_type": "code",
   "execution_count": 3,
   "metadata": {
    "tags": [
     "thebe-init",
     "hide_input",
     "hide_output"
    ]
   },
   "outputs": [
    {
     "data": {
      "text/html": [
       "<style>.toggle-button { display :none !important; }</style>"
      ],
      "text/plain": [
       "<IPython.core.display.HTML object>"
      ]
     },
     "metadata": {},
     "output_type": "display_data"
    },
    {
     "data": {
      "text/html": [
       "<style>.toggle-button-hidden { display :none !important; }</style>"
      ],
      "text/plain": [
       "<IPython.core.display.HTML object>"
      ]
     },
     "metadata": {},
     "output_type": "display_data"
    },
    {
     "data": {
      "text/html": [
       "<style>.button.toggle-button  { display :none !important; }</style>"
      ],
      "text/plain": [
       "<IPython.core.display.HTML object>"
      ]
     },
     "metadata": {},
     "output_type": "display_data"
    },
    {
     "data": {
      "text/html": [
       "<style>.fas fa-download { display :none !important; }</style>"
      ],
      "text/plain": [
       "<IPython.core.display.HTML object>"
      ]
     },
     "metadata": {},
     "output_type": "display_data"
    },
    {
     "name": "stdout",
     "output_type": "stream",
     "text": [
      "Data Request returned 200 : 'OK'\n"
     ]
    }
   ],
   "source": [
    "from IPython.core.display import display, HTML\n",
    "display(HTML(\"<style>.toggle-button { display :none !important; }</style>\"))\n",
    "display(HTML(\"<style>.toggle-button-hidden { display :none !important; }</style>\"))\n",
    "display(HTML(\"<style>.button.toggle-button  { display :none !important; }</style>\"))\n",
    "display(HTML(\"<style>.fas fa-download { display :none !important; }</style>\"))\n",
    "\n",
    "\n",
    "# Query URL\n",
    "url = ('https://covid19-healthylk.herokuapp.com/api/districtstotal?startdate=2021-08-31&enddate=2021-09-31')\n",
    "#print(url)\n",
    "response = requests.get(url)  # Make a GET request to the URL\n",
    "# Print status code (and associated text)\n",
    "print(f\"Data Request returned {response.status_code} : '{response.reason}'\")\n",
    "# Print data returned (parsing as JSON)\n",
    "payload = response.json()  # Parse `response.text` into JSON\n"
   ]
  },
  {
   "cell_type": "code",
   "execution_count": 4,
   "metadata": {
    "interactive": true,
    "tags": [
     "thebe-init"
    ]
   },
   "outputs": [
    {
     "name": "stdout",
     "output_type": "stream",
     "text": [
      "Dataset feactched as selected dataframe\n"
     ]
    }
   ],
   "source": [
    "data=pd.json_normalize(payload['data'])\n",
    "selected=data[[\"datetext\", \"counttext\",\"location.formattedAddress\"]]\n",
    "print('Dataset feactched as selected dataframe')\n",
    "#print(selected)\n",
    "#list(selected.columns.values)"
   ]
  },
  {
   "cell_type": "code",
   "execution_count": 5,
   "metadata": {
    "tags": [
     "thebe-init"
    ]
   },
   "outputs": [
    {
     "name": "stdout",
     "output_type": "stream",
     "text": [
      "By defult Nuwara Eliya District selected\n",
      "For other district select it form the dropdown below >>>\n"
     ]
    },
    {
     "data": {
      "application/vnd.jupyter.widget-view+json": {
       "model_id": "19b0a6afabf24e4d99efcd7e89011836",
       "version_major": 2,
       "version_minor": 0
      },
      "text/plain": [
       "HBox(children=(Dropdown(options=('Nuwara Eliya, Sri Lanka', 'Badulla, Sri Lanka', 'Kurunegala, Sri Lanka'), va…"
      ]
     },
     "metadata": {},
     "output_type": "display_data"
    },
    {
     "data": {
      "application/vnd.jupyter.widget-view+json": {
       "model_id": "a32b1b405d4f45539d819e6555f6ae4f",
       "version_major": 2,
       "version_minor": 0
      },
      "text/plain": [
       "Output()"
      ]
     },
     "metadata": {},
     "output_type": "display_data"
    }
   ],
   "source": [
    "filtedVals= selected[selected['location.formattedAddress'].str.contains('Nuwara Eliya, Sri Lanka')]\n",
    "print('By defult Nuwara Eliya District selected')\n",
    "print('For other district select it form the dropdown below >>>')\n",
    "\n",
    "\n",
    "\n",
    "def f(x):\n",
    "    print(\"District changed to %s\" % x)\n",
    "    filtedVals=selected[selected['location.formattedAddress'].str.contains(x)]\n",
    "    print(filtedVals)\n",
    "    pivoted = pd.DataFrame(filtedVals.pivot_table(values='counttext', index='datetext', columns='location.formattedAddress', aggfunc='sum'))\n",
    "    return pivoted\n",
    "\n",
    "#interact(f, x=['Nuwara Eliya, Sri Lanka', 'Badulla, Sri Lanka', 'Kurunegala, Sri Lanka']);\n",
    "\n",
    "\n",
    "\n",
    "#def foo(param):\n",
    "    #display(param)\n",
    "    #return param\n",
    "    #return pd.DataFrame({'Z':[param,param], 'A': ['b', 'b']})\n",
    "\n",
    "params = widgets.Dropdown(options= ['Nuwara Eliya, Sri Lanka', 'Badulla, Sri Lanka', 'Kurunegala, Sri Lanka'])\n",
    "\n",
    "#bar = widgets.interactive_output(foo, {'param' : params})\n",
    "\n",
    "\n",
    "c = widgets.IntSlider()\n",
    "\n",
    "ui = widgets.HBox([params])\n",
    "def f2(params):\n",
    "    #print((params))\n",
    "    return params;\n",
    "\n",
    "out = widgets.interactive_output(f2, {'params': params})\n",
    "\n",
    "display(ui, out)\n",
    "\n",
    "\n",
    "#display(widgets.VBox([params, bar]))\n",
    "\n",
    "#display(ui, out)\n"
   ]
  },
  {
   "cell_type": "code",
   "execution_count": 6,
   "metadata": {
    "interactive": true,
    "tags": [
     "thebe-init"
    ]
   },
   "outputs": [
    {
     "name": "stdout",
     "output_type": "stream",
     "text": [
      "By defult Nuwara Eliya District selected\n",
      "For other district select it form the dropdown below >>>\n"
     ]
    },
    {
     "data": {
      "application/vnd.jupyter.widget-view+json": {
       "model_id": "1bcf652ff59c4573abef7ce228966cd9",
       "version_major": 2,
       "version_minor": 0
      },
      "text/plain": [
       "Dropdown(description='District:', options=('Nuwara Eliya, Sri Lanka', 'Badulla, Sri Lanka', 'Kurunegala, Sri L…"
      ]
     },
     "metadata": {},
     "output_type": "display_data"
    }
   ],
   "source": [
    "filtedVals= selected[selected['location.formattedAddress'].str.contains('Nuwara Eliya, Sri Lanka')]\n",
    "print('By defult Nuwara Eliya District selected')\n",
    "print('For other district select it form the dropdown below >>>')\n",
    "#print(filtedVals)\n",
    "w = widgets.Dropdown(\n",
    "    options=['Nuwara Eliya, Sri Lanka', 'Badulla, Sri Lanka', 'Kurunegala, Sri Lanka'],\n",
    "    value='Nuwara Eliya, Sri Lanka',\n",
    "    description='District:',\n",
    ")\n",
    "\n",
    "def on_change(change):\n",
    "    if change['type'] == 'change' and change['name'] == 'value':\n",
    "        print(\"District changed to %s\" % change['new'])\n",
    "        filtedVals=selected[selected['location.formattedAddress'].str.contains(change['new'])]\n",
    "        #print(filtedVals)\n",
    "        pivoted = pd.DataFrame(filtedVals.pivot_table(values='counttext', index='datetext', columns='location.formattedAddress', aggfunc='sum'))\n",
    "        #print(list(pivoted.columns.values))\n",
    "        #pivoted = pivoted.set_index('datetext')\n",
    "        #print(pivoted)\n",
    "        \n",
    "        # figure size globally set for matplotlib\n",
    "        mpl.rcParams['figure.figsize'] = (20, 20)\n",
    "        mpl.rcParams['axes.grid'] = False\n",
    "\n",
    "        ax = pivoted.plot()\n",
    "        #ax.set_color_palette(sns.color_palette(\"muted\"))\n",
    "        pivoted.plot(ax=ax)\n",
    "        plt.legend(loc='best',prop={'size': 9}) \n",
    "        plt.show() \n",
    "\n",
    "w.observe(on_change)\n",
    "\n",
    "display(w)"
   ]
  },
  {
   "cell_type": "code",
   "execution_count": 7,
   "metadata": {},
   "outputs": [
    {
     "data": {
      "application/vnd.jupyter.widget-view+json": {
       "model_id": "464add206a084e79b4597e11a2355f17",
       "version_major": 2,
       "version_minor": 0
      },
      "text/plain": [
       "interactive(children=(Dropdown(description='m', index=1, options=(0, 1, 2, 3, 4), value=1), Output()), _dom_cl…"
      ]
     },
     "metadata": {},
     "output_type": "display_data"
    }
   ],
   "source": [
    "import numpy as np\n",
    "x = np.random.uniform(0, 5, size=100)\n",
    "ep = np.random.normal(size=100)\n",
    "\n",
    "y = 2*x + ep\n",
    "x_values = np.linspace(0, 5, 1000)\n",
    "\n",
    "def slope_viz(m=1):\n",
    "    plt.scatter(x, y)\n",
    "    plt.plot(x_values, m*x_values, lw=3, color='black')\n",
    "    \n",
    "    plt.ylim(-1.2, 12.2);\n",
    "\n",
    "widgets.interact(slope_viz, m=[0, 1, 2, 3, 4]);"
   ]
  },
  {
   "cell_type": "code",
   "execution_count": 103,
   "metadata": {},
   "outputs": [
    {
     "data": {
      "application/vnd.jupyter.widget-view+json": {
       "model_id": "4c6b342959dc470f8202dec21cff6708",
       "version_major": 2,
       "version_minor": 0
      },
      "text/plain": [
       "interactive(children=(Dropdown(description='x', options=('apples', 'oranges'), value='apples'), Output()), _do…"
      ]
     },
     "metadata": {},
     "output_type": "display_data"
    }
   ],
   "source": []
  }
 ],
 "metadata": {
  "celltoolbar": "Edit Metadata",
  "interpreter": {
   "hash": "3737066df5c064be03a6248772db1e76653979943fb860cf16d8d5c69b137dfa"
  },
  "kernelspec": {
   "display_name": "Python 3",
   "language": "python",
   "name": "python3"
  },
  "language_info": {
   "codemirror_mode": {
    "name": "ipython",
    "version": 3
   },
   "file_extension": ".py",
   "mimetype": "text/x-python",
   "name": "python",
   "nbconvert_exporter": "python",
   "pygments_lexer": "ipython3",
   "version": "3.9.7"
  },
  "widgets": {
   "application/vnd.jupyter.widget-state+json": {
    "state": {
     "098dc352a8b34292b9515317bea40b97": {
      "model_module": "@jupyter-widgets/controls",
      "model_module_version": "1.5.0",
      "model_name": "DescriptionStyleModel",
      "state": {
       "_model_module": "@jupyter-widgets/controls",
       "_model_module_version": "1.5.0",
       "_model_name": "DescriptionStyleModel",
       "_view_count": null,
       "_view_module": "@jupyter-widgets/base",
       "_view_module_version": "1.2.0",
       "_view_name": "StyleView",
       "description_width": ""
      }
     },
     "19b0a6afabf24e4d99efcd7e89011836": {
      "model_module": "@jupyter-widgets/controls",
      "model_module_version": "1.5.0",
      "model_name": "HBoxModel",
      "state": {
       "_dom_classes": [],
       "_model_module": "@jupyter-widgets/controls",
       "_model_module_version": "1.5.0",
       "_model_name": "HBoxModel",
       "_view_count": null,
       "_view_module": "@jupyter-widgets/controls",
       "_view_module_version": "1.5.0",
       "_view_name": "HBoxView",
       "box_style": "",
       "children": [
        "IPY_MODEL_599d10ddaca74474a635a71546828ea7"
       ],
       "layout": "IPY_MODEL_d893852d904642298dd27c26d0a489f2"
      }
     },
     "1bcf652ff59c4573abef7ce228966cd9": {
      "model_module": "@jupyter-widgets/controls",
      "model_module_version": "1.5.0",
      "model_name": "DropdownModel",
      "state": {
       "_dom_classes": [],
       "_model_module": "@jupyter-widgets/controls",
       "_model_module_version": "1.5.0",
       "_model_name": "DropdownModel",
       "_options_labels": [
        "Nuwara Eliya, Sri Lanka",
        "Badulla, Sri Lanka",
        "Kurunegala, Sri Lanka"
       ],
       "_view_count": null,
       "_view_module": "@jupyter-widgets/controls",
       "_view_module_version": "1.5.0",
       "_view_name": "DropdownView",
       "description": "District:",
       "description_tooltip": null,
       "disabled": false,
       "index": 0,
       "layout": "IPY_MODEL_c3f39c4a51b74d3e9f8d8bb735564c52",
       "style": "IPY_MODEL_3776365eea264ae8a07c37c299b22032"
      }
     },
     "3776365eea264ae8a07c37c299b22032": {
      "model_module": "@jupyter-widgets/controls",
      "model_module_version": "1.5.0",
      "model_name": "DescriptionStyleModel",
      "state": {
       "_model_module": "@jupyter-widgets/controls",
       "_model_module_version": "1.5.0",
       "_model_name": "DescriptionStyleModel",
       "_view_count": null,
       "_view_module": "@jupyter-widgets/base",
       "_view_module_version": "1.2.0",
       "_view_name": "StyleView",
       "description_width": ""
      }
     },
     "410f1e7bd52446a89d360d9f251e3e94": {
      "model_module": "@jupyter-widgets/controls",
      "model_module_version": "1.5.0",
      "model_name": "SliderStyleModel",
      "state": {
       "_model_module": "@jupyter-widgets/controls",
       "_model_module_version": "1.5.0",
       "_model_name": "SliderStyleModel",
       "_view_count": null,
       "_view_module": "@jupyter-widgets/base",
       "_view_module_version": "1.2.0",
       "_view_name": "StyleView",
       "description_width": "",
       "handle_color": null
      }
     },
     "464add206a084e79b4597e11a2355f17": {
      "model_module": "@jupyter-widgets/controls",
      "model_module_version": "1.5.0",
      "model_name": "VBoxModel",
      "state": {
       "_dom_classes": [
        "widget-interact"
       ],
       "_model_module": "@jupyter-widgets/controls",
       "_model_module_version": "1.5.0",
       "_model_name": "VBoxModel",
       "_view_count": null,
       "_view_module": "@jupyter-widgets/controls",
       "_view_module_version": "1.5.0",
       "_view_name": "VBoxView",
       "box_style": "",
       "children": [
        "IPY_MODEL_7f6a78475ec44123819f54a4f44df27a",
        "IPY_MODEL_d184f4283ae64ac1a7ee0b6f0157f86b"
       ],
       "layout": "IPY_MODEL_eb4a01c5e8ff4e45a905cc3be4b65111"
      }
     },
     "599d10ddaca74474a635a71546828ea7": {
      "model_module": "@jupyter-widgets/controls",
      "model_module_version": "1.5.0",
      "model_name": "DropdownModel",
      "state": {
       "_dom_classes": [],
       "_model_module": "@jupyter-widgets/controls",
       "_model_module_version": "1.5.0",
       "_model_name": "DropdownModel",
       "_options_labels": [
        "Nuwara Eliya, Sri Lanka",
        "Badulla, Sri Lanka",
        "Kurunegala, Sri Lanka"
       ],
       "_view_count": null,
       "_view_module": "@jupyter-widgets/controls",
       "_view_module_version": "1.5.0",
       "_view_name": "DropdownView",
       "description": "",
       "description_tooltip": null,
       "disabled": false,
       "index": 0,
       "layout": "IPY_MODEL_9431c6e544e94994941fcca90d9d2edb",
       "style": "IPY_MODEL_098dc352a8b34292b9515317bea40b97"
      }
     },
     "6cc5fe2a574d4ff28890b6784e448beb": {
      "model_module": "@jupyter-widgets/controls",
      "model_module_version": "1.5.0",
      "model_name": "DescriptionStyleModel",
      "state": {
       "_model_module": "@jupyter-widgets/controls",
       "_model_module_version": "1.5.0",
       "_model_name": "DescriptionStyleModel",
       "_view_count": null,
       "_view_module": "@jupyter-widgets/base",
       "_view_module_version": "1.2.0",
       "_view_name": "StyleView",
       "description_width": ""
      }
     },
     "74045badd5624638b4c0f693454f4eb6": {
      "model_module": "@jupyter-widgets/base",
      "model_module_version": "1.2.0",
      "model_name": "LayoutModel",
      "state": {
       "_model_module": "@jupyter-widgets/base",
       "_model_module_version": "1.2.0",
       "_model_name": "LayoutModel",
       "_view_count": null,
       "_view_module": "@jupyter-widgets/base",
       "_view_module_version": "1.2.0",
       "_view_name": "LayoutView",
       "align_content": null,
       "align_items": null,
       "align_self": null,
       "border": null,
       "bottom": null,
       "display": null,
       "flex": null,
       "flex_flow": null,
       "grid_area": null,
       "grid_auto_columns": null,
       "grid_auto_flow": null,
       "grid_auto_rows": null,
       "grid_column": null,
       "grid_gap": null,
       "grid_row": null,
       "grid_template_areas": null,
       "grid_template_columns": null,
       "grid_template_rows": null,
       "height": null,
       "justify_content": null,
       "justify_items": null,
       "left": null,
       "margin": null,
       "max_height": null,
       "max_width": null,
       "min_height": null,
       "min_width": null,
       "object_fit": null,
       "object_position": null,
       "order": null,
       "overflow": null,
       "overflow_x": null,
       "overflow_y": null,
       "padding": null,
       "right": null,
       "top": null,
       "visibility": null,
       "width": null
      }
     },
     "7f6a78475ec44123819f54a4f44df27a": {
      "model_module": "@jupyter-widgets/controls",
      "model_module_version": "1.5.0",
      "model_name": "DropdownModel",
      "state": {
       "_dom_classes": [],
       "_model_module": "@jupyter-widgets/controls",
       "_model_module_version": "1.5.0",
       "_model_name": "DropdownModel",
       "_options_labels": [
        "0",
        "1",
        "2",
        "3",
        "4"
       ],
       "_view_count": null,
       "_view_module": "@jupyter-widgets/controls",
       "_view_module_version": "1.5.0",
       "_view_name": "DropdownView",
       "description": "m",
       "description_tooltip": null,
       "disabled": false,
       "index": 1,
       "layout": "IPY_MODEL_a3b29f2d07f54da58e89f4383bcbd3d8",
       "style": "IPY_MODEL_6cc5fe2a574d4ff28890b6784e448beb"
      }
     },
     "9431c6e544e94994941fcca90d9d2edb": {
      "model_module": "@jupyter-widgets/base",
      "model_module_version": "1.2.0",
      "model_name": "LayoutModel",
      "state": {
       "_model_module": "@jupyter-widgets/base",
       "_model_module_version": "1.2.0",
       "_model_name": "LayoutModel",
       "_view_count": null,
       "_view_module": "@jupyter-widgets/base",
       "_view_module_version": "1.2.0",
       "_view_name": "LayoutView",
       "align_content": null,
       "align_items": null,
       "align_self": null,
       "border": null,
       "bottom": null,
       "display": null,
       "flex": null,
       "flex_flow": null,
       "grid_area": null,
       "grid_auto_columns": null,
       "grid_auto_flow": null,
       "grid_auto_rows": null,
       "grid_column": null,
       "grid_gap": null,
       "grid_row": null,
       "grid_template_areas": null,
       "grid_template_columns": null,
       "grid_template_rows": null,
       "height": null,
       "justify_content": null,
       "justify_items": null,
       "left": null,
       "margin": null,
       "max_height": null,
       "max_width": null,
       "min_height": null,
       "min_width": null,
       "object_fit": null,
       "object_position": null,
       "order": null,
       "overflow": null,
       "overflow_x": null,
       "overflow_y": null,
       "padding": null,
       "right": null,
       "top": null,
       "visibility": null,
       "width": null
      }
     },
     "98d5c24590e04ce0bfb3b592bebe9ce6": {
      "model_module": "@jupyter-widgets/controls",
      "model_module_version": "1.5.0",
      "model_name": "IntSliderModel",
      "state": {
       "_dom_classes": [],
       "_model_module": "@jupyter-widgets/controls",
       "_model_module_version": "1.5.0",
       "_model_name": "IntSliderModel",
       "_view_count": null,
       "_view_module": "@jupyter-widgets/controls",
       "_view_module_version": "1.5.0",
       "_view_name": "IntSliderView",
       "continuous_update": true,
       "description": "",
       "description_tooltip": null,
       "disabled": false,
       "layout": "IPY_MODEL_a2947a9dbd2b4f1aae89bb363b659bbe",
       "max": 100,
       "min": 0,
       "orientation": "horizontal",
       "readout": true,
       "readout_format": "d",
       "step": 1,
       "style": "IPY_MODEL_410f1e7bd52446a89d360d9f251e3e94",
       "value": 0
      }
     },
     "a13426c04c41414d92ff6b385d30b69b": {
      "model_module": "@jupyter-widgets/base",
      "model_module_version": "1.2.0",
      "model_name": "LayoutModel",
      "state": {
       "_model_module": "@jupyter-widgets/base",
       "_model_module_version": "1.2.0",
       "_model_name": "LayoutModel",
       "_view_count": null,
       "_view_module": "@jupyter-widgets/base",
       "_view_module_version": "1.2.0",
       "_view_name": "LayoutView",
       "align_content": null,
       "align_items": null,
       "align_self": null,
       "border": null,
       "bottom": null,
       "display": null,
       "flex": null,
       "flex_flow": null,
       "grid_area": null,
       "grid_auto_columns": null,
       "grid_auto_flow": null,
       "grid_auto_rows": null,
       "grid_column": null,
       "grid_gap": null,
       "grid_row": null,
       "grid_template_areas": null,
       "grid_template_columns": null,
       "grid_template_rows": null,
       "height": null,
       "justify_content": null,
       "justify_items": null,
       "left": null,
       "margin": null,
       "max_height": null,
       "max_width": null,
       "min_height": null,
       "min_width": null,
       "object_fit": null,
       "object_position": null,
       "order": null,
       "overflow": null,
       "overflow_x": null,
       "overflow_y": null,
       "padding": null,
       "right": null,
       "top": null,
       "visibility": null,
       "width": null
      }
     },
     "a2947a9dbd2b4f1aae89bb363b659bbe": {
      "model_module": "@jupyter-widgets/base",
      "model_module_version": "1.2.0",
      "model_name": "LayoutModel",
      "state": {
       "_model_module": "@jupyter-widgets/base",
       "_model_module_version": "1.2.0",
       "_model_name": "LayoutModel",
       "_view_count": null,
       "_view_module": "@jupyter-widgets/base",
       "_view_module_version": "1.2.0",
       "_view_name": "LayoutView",
       "align_content": null,
       "align_items": null,
       "align_self": null,
       "border": null,
       "bottom": null,
       "display": null,
       "flex": null,
       "flex_flow": null,
       "grid_area": null,
       "grid_auto_columns": null,
       "grid_auto_flow": null,
       "grid_auto_rows": null,
       "grid_column": null,
       "grid_gap": null,
       "grid_row": null,
       "grid_template_areas": null,
       "grid_template_columns": null,
       "grid_template_rows": null,
       "height": null,
       "justify_content": null,
       "justify_items": null,
       "left": null,
       "margin": null,
       "max_height": null,
       "max_width": null,
       "min_height": null,
       "min_width": null,
       "object_fit": null,
       "object_position": null,
       "order": null,
       "overflow": null,
       "overflow_x": null,
       "overflow_y": null,
       "padding": null,
       "right": null,
       "top": null,
       "visibility": null,
       "width": null
      }
     },
     "a32b1b405d4f45539d819e6555f6ae4f": {
      "model_module": "@jupyter-widgets/output",
      "model_module_version": "1.0.0",
      "model_name": "OutputModel",
      "state": {
       "_dom_classes": [],
       "_model_module": "@jupyter-widgets/output",
       "_model_module_version": "1.0.0",
       "_model_name": "OutputModel",
       "_view_count": null,
       "_view_module": "@jupyter-widgets/output",
       "_view_module_version": "1.0.0",
       "_view_name": "OutputView",
       "layout": "IPY_MODEL_a13426c04c41414d92ff6b385d30b69b",
       "msg_id": "",
       "outputs": []
      }
     },
     "a3b29f2d07f54da58e89f4383bcbd3d8": {
      "model_module": "@jupyter-widgets/base",
      "model_module_version": "1.2.0",
      "model_name": "LayoutModel",
      "state": {
       "_model_module": "@jupyter-widgets/base",
       "_model_module_version": "1.2.0",
       "_model_name": "LayoutModel",
       "_view_count": null,
       "_view_module": "@jupyter-widgets/base",
       "_view_module_version": "1.2.0",
       "_view_name": "LayoutView",
       "align_content": null,
       "align_items": null,
       "align_self": null,
       "border": null,
       "bottom": null,
       "display": null,
       "flex": null,
       "flex_flow": null,
       "grid_area": null,
       "grid_auto_columns": null,
       "grid_auto_flow": null,
       "grid_auto_rows": null,
       "grid_column": null,
       "grid_gap": null,
       "grid_row": null,
       "grid_template_areas": null,
       "grid_template_columns": null,
       "grid_template_rows": null,
       "height": null,
       "justify_content": null,
       "justify_items": null,
       "left": null,
       "margin": null,
       "max_height": null,
       "max_width": null,
       "min_height": null,
       "min_width": null,
       "object_fit": null,
       "object_position": null,
       "order": null,
       "overflow": null,
       "overflow_x": null,
       "overflow_y": null,
       "padding": null,
       "right": null,
       "top": null,
       "visibility": null,
       "width": null
      }
     },
     "c3f39c4a51b74d3e9f8d8bb735564c52": {
      "model_module": "@jupyter-widgets/base",
      "model_module_version": "1.2.0",
      "model_name": "LayoutModel",
      "state": {
       "_model_module": "@jupyter-widgets/base",
       "_model_module_version": "1.2.0",
       "_model_name": "LayoutModel",
       "_view_count": null,
       "_view_module": "@jupyter-widgets/base",
       "_view_module_version": "1.2.0",
       "_view_name": "LayoutView",
       "align_content": null,
       "align_items": null,
       "align_self": null,
       "border": null,
       "bottom": null,
       "display": null,
       "flex": null,
       "flex_flow": null,
       "grid_area": null,
       "grid_auto_columns": null,
       "grid_auto_flow": null,
       "grid_auto_rows": null,
       "grid_column": null,
       "grid_gap": null,
       "grid_row": null,
       "grid_template_areas": null,
       "grid_template_columns": null,
       "grid_template_rows": null,
       "height": null,
       "justify_content": null,
       "justify_items": null,
       "left": null,
       "margin": null,
       "max_height": null,
       "max_width": null,
       "min_height": null,
       "min_width": null,
       "object_fit": null,
       "object_position": null,
       "order": null,
       "overflow": null,
       "overflow_x": null,
       "overflow_y": null,
       "padding": null,
       "right": null,
       "top": null,
       "visibility": null,
       "width": null
      }
     },
     "d184f4283ae64ac1a7ee0b6f0157f86b": {
      "model_module": "@jupyter-widgets/output",
      "model_module_version": "1.0.0",
      "model_name": "OutputModel",
      "state": {
       "_dom_classes": [],
       "_model_module": "@jupyter-widgets/output",
       "_model_module_version": "1.0.0",
       "_model_name": "OutputModel",
       "_view_count": null,
       "_view_module": "@jupyter-widgets/output",
       "_view_module_version": "1.0.0",
       "_view_name": "OutputView",
       "layout": "IPY_MODEL_74045badd5624638b4c0f693454f4eb6",
       "msg_id": "",
       "outputs": [
        {
         "data": {
          "image/png": "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\n",
          "text/plain": "<Figure size 432x288 with 1 Axes>"
         },
         "metadata": {
          "needs_background": "light"
         },
         "output_type": "display_data"
        }
       ]
      }
     },
     "d893852d904642298dd27c26d0a489f2": {
      "model_module": "@jupyter-widgets/base",
      "model_module_version": "1.2.0",
      "model_name": "LayoutModel",
      "state": {
       "_model_module": "@jupyter-widgets/base",
       "_model_module_version": "1.2.0",
       "_model_name": "LayoutModel",
       "_view_count": null,
       "_view_module": "@jupyter-widgets/base",
       "_view_module_version": "1.2.0",
       "_view_name": "LayoutView",
       "align_content": null,
       "align_items": null,
       "align_self": null,
       "border": null,
       "bottom": null,
       "display": null,
       "flex": null,
       "flex_flow": null,
       "grid_area": null,
       "grid_auto_columns": null,
       "grid_auto_flow": null,
       "grid_auto_rows": null,
       "grid_column": null,
       "grid_gap": null,
       "grid_row": null,
       "grid_template_areas": null,
       "grid_template_columns": null,
       "grid_template_rows": null,
       "height": null,
       "justify_content": null,
       "justify_items": null,
       "left": null,
       "margin": null,
       "max_height": null,
       "max_width": null,
       "min_height": null,
       "min_width": null,
       "object_fit": null,
       "object_position": null,
       "order": null,
       "overflow": null,
       "overflow_x": null,
       "overflow_y": null,
       "padding": null,
       "right": null,
       "top": null,
       "visibility": null,
       "width": null
      }
     },
     "eb4a01c5e8ff4e45a905cc3be4b65111": {
      "model_module": "@jupyter-widgets/base",
      "model_module_version": "1.2.0",
      "model_name": "LayoutModel",
      "state": {
       "_model_module": "@jupyter-widgets/base",
       "_model_module_version": "1.2.0",
       "_model_name": "LayoutModel",
       "_view_count": null,
       "_view_module": "@jupyter-widgets/base",
       "_view_module_version": "1.2.0",
       "_view_name": "LayoutView",
       "align_content": null,
       "align_items": null,
       "align_self": null,
       "border": null,
       "bottom": null,
       "display": null,
       "flex": null,
       "flex_flow": null,
       "grid_area": null,
       "grid_auto_columns": null,
       "grid_auto_flow": null,
       "grid_auto_rows": null,
       "grid_column": null,
       "grid_gap": null,
       "grid_row": null,
       "grid_template_areas": null,
       "grid_template_columns": null,
       "grid_template_rows": null,
       "height": null,
       "justify_content": null,
       "justify_items": null,
       "left": null,
       "margin": null,
       "max_height": null,
       "max_width": null,
       "min_height": null,
       "min_width": null,
       "object_fit": null,
       "object_position": null,
       "order": null,
       "overflow": null,
       "overflow_x": null,
       "overflow_y": null,
       "padding": null,
       "right": null,
       "top": null,
       "visibility": null,
       "width": null
      }
     }
    },
    "version_major": 2,
    "version_minor": 0
   }
  }
 },
 "nbformat": 4,
 "nbformat_minor": 4
}